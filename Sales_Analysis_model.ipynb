{
  "cells": [
    {
      "cell_type": "code",
      "execution_count": null,
      "metadata": {
        "id": "DZk8GhU4WLpb"
      },
      "outputs": [],
      "source": [
        "import pandas as pd\n",
        "import numpy as np\n",
        "import os\n",
        "import matplotlib.pyplot as plt\n",
        "import csv\n",
        "import regex as re"
      ]
    },
    {
      "cell_type": "code",
      "execution_count": null,
      "metadata": {
        "id": "PwPbsZo3WLpi"
      },
      "outputs": [],
      "source": [
        "df = pd.read_csv(\"Sales_English(basic clean).csv\")"
      ]
    },
    {
      "cell_type": "code",
      "execution_count": null,
      "metadata": {
        "id": "rvPNpJJUWLpj",
        "outputId": "677bb21d-5bdd-4614-9bef-f326de0b2483",
        "colab": {
          "base_uri": "https://localhost:8080/",
          "height": 452
        }
      },
      "outputs": [
        {
          "output_type": "execute_result",
          "data": {
            "text/html": [
              "<div>\n",
              "<style scoped>\n",
              "    .dataframe tbody tr th:only-of-type {\n",
              "        vertical-align: middle;\n",
              "    }\n",
              "\n",
              "    .dataframe tbody tr th {\n",
              "        vertical-align: top;\n",
              "    }\n",
              "\n",
              "    .dataframe thead th {\n",
              "        text-align: right;\n",
              "    }\n",
              "</style>\n",
              "<table border=\"1\" class=\"dataframe\">\n",
              "  <thead>\n",
              "    <tr style=\"text-align: right;\">\n",
              "      <th></th>\n",
              "      <th>customer type</th>\n",
              "      <th>sales representative</th>\n",
              "      <th>province</th>\n",
              "      <th>city</th>\n",
              "      <th>most recent activity date</th>\n",
              "      <th>most recent sales representative</th>\n",
              "      <th>customer pool</th>\n",
              "      <th>data creator</th>\n",
              "      <th>claim date</th>\n",
              "      <th>recent change date</th>\n",
              "      <th>recent editor</th>\n",
              "      <th>status</th>\n",
              "      <th>belonging department</th>\n",
              "      <th>business registration</th>\n",
              "      <th>do-not-disturb</th>\n",
              "      <th>number of signed contract</th>\n",
              "      <th>amount received</th>\n",
              "      <th>total contract amount</th>\n",
              "      <th>account receivable</th>\n",
              "      <th>non-collectibles</th>\n",
              "      <th>amount to be collected</th>\n",
              "      <th>actual amount collected</th>\n",
              "      <th>effective sales amount</th>\n",
              "      <th>total sales amount</th>\n",
              "      <th>finished customer</th>\n",
              "      <th>customer rating</th>\n",
              "      <th>interest category</th>\n",
              "      <th>customer source</th>\n",
              "      <th>source secondary classification</th>\n",
              "      <th>source third classification</th>\n",
              "      <th>source fourth classification</th>\n",
              "      <th>business category</th>\n",
              "      <th>interest program</th>\n",
              "      <th>information date</th>\n",
              "      <th>customer source star rating</th>\n",
              "      <th>dududu? (yes/no)</th>\n",
              "      <th>source code</th>\n",
              "      <th>customer update status</th>\n",
              "      <th>percentage</th>\n",
              "      <th>program sales total</th>\n",
              "      <th>expected sales</th>\n",
              "      <th>number of calls</th>\n",
              "      <th>repeated? (yes/no)</th>\n",
              "      <th>repeated date</th>\n",
              "      <th>most recent publish date</th>\n",
              "    </tr>\n",
              "  </thead>\n",
              "  <tbody>\n",
              "    <tr>\n",
              "      <th>0</th>\n",
              "      <td>Individual</td>\n",
              "      <td>Weijingjuan</td>\n",
              "      <td>unknown</td>\n",
              "      <td>unknown</td>\n",
              "      <td>2021-09-15</td>\n",
              "      <td>Weijingjuan</td>\n",
              "      <td>Entire - Collectible</td>\n",
              "      <td>Zhangmeng</td>\n",
              "      <td>2021-09-15</td>\n",
              "      <td>2021-10-09 15:08</td>\n",
              "      <td>Weijingjuan</td>\n",
              "      <td>Collected</td>\n",
              "      <td>Southern 2</td>\n",
              "      <td>Yes</td>\n",
              "      <td>False</td>\n",
              "      <td>0</td>\n",
              "      <td>0.0</td>\n",
              "      <td>0.0</td>\n",
              "      <td>0.0</td>\n",
              "      <td>0.0</td>\n",
              "      <td>0.0</td>\n",
              "      <td>0.0</td>\n",
              "      <td>0</td>\n",
              "      <td>0.0</td>\n",
              "      <td>0</td>\n",
              "      <td>40</td>\n",
              "      <td>D</td>\n",
              "      <td>Online Operations</td>\n",
              "      <td>Media</td>\n",
              "      <td>Jinritoutiao</td>\n",
              "      <td>Form Data</td>\n",
              "      <td>Employed</td>\n",
              "      <td>ENPC-DBA-IMM</td>\n",
              "      <td>2021-09-15</td>\n",
              "      <td>***</td>\n",
              "      <td>False</td>\n",
              "      <td>C</td>\n",
              "      <td>1</td>\n",
              "      <td>0.05</td>\n",
              "      <td>588000</td>\n",
              "      <td>29400.00</td>\n",
              "      <td>3</td>\n",
              "      <td>unknown</td>\n",
              "      <td>unknown</td>\n",
              "      <td>2021-09-15 16:51</td>\n",
              "    </tr>\n",
              "    <tr>\n",
              "      <th>1</th>\n",
              "      <td>Individual</td>\n",
              "      <td>Lishanshan</td>\n",
              "      <td>unknown</td>\n",
              "      <td>unknown</td>\n",
              "      <td>2021-10-03</td>\n",
              "      <td>Lishanshan</td>\n",
              "      <td>Entire</td>\n",
              "      <td>Hemengjun</td>\n",
              "      <td>2021-01-16</td>\n",
              "      <td>2021-10-03 16:42</td>\n",
              "      <td>Lishanshan</td>\n",
              "      <td>Collected</td>\n",
              "      <td>129shi</td>\n",
              "      <td>Yes</td>\n",
              "      <td>False</td>\n",
              "      <td>0</td>\n",
              "      <td>0.0</td>\n",
              "      <td>0.0</td>\n",
              "      <td>0.0</td>\n",
              "      <td>0.0</td>\n",
              "      <td>0.0</td>\n",
              "      <td>0.0</td>\n",
              "      <td>0</td>\n",
              "      <td>0.0</td>\n",
              "      <td>0</td>\n",
              "      <td>40</td>\n",
              "      <td>D</td>\n",
              "      <td>Online Operations</td>\n",
              "      <td>Media</td>\n",
              "      <td>Wechat - Pengyouquan</td>\n",
              "      <td>unknown</td>\n",
              "      <td>Employed</td>\n",
              "      <td>ENPC-DBA-IMM</td>\n",
              "      <td>2021-10-03</td>\n",
              "      <td>***</td>\n",
              "      <td>False</td>\n",
              "      <td>C</td>\n",
              "      <td>1</td>\n",
              "      <td>0.05</td>\n",
              "      <td>588000</td>\n",
              "      <td>29400.00</td>\n",
              "      <td>1</td>\n",
              "      <td>Yes</td>\n",
              "      <td>2021-01-06</td>\n",
              "      <td>2021-10-03 16:42</td>\n",
              "    </tr>\n",
              "    <tr>\n",
              "      <th>2</th>\n",
              "      <td>Individual</td>\n",
              "      <td>Hewei</td>\n",
              "      <td>unknown</td>\n",
              "      <td>unknown</td>\n",
              "      <td>2021-04-13</td>\n",
              "      <td>Hewei</td>\n",
              "      <td>Entire</td>\n",
              "      <td>Hemengjun</td>\n",
              "      <td>2021-01-16</td>\n",
              "      <td>2021-08-20 10:27</td>\n",
              "      <td>Administrator</td>\n",
              "      <td>Collected</td>\n",
              "      <td>27jun</td>\n",
              "      <td>Yes</td>\n",
              "      <td>False</td>\n",
              "      <td>1</td>\n",
              "      <td>2000.0</td>\n",
              "      <td>370000.0</td>\n",
              "      <td>0.0</td>\n",
              "      <td>0.0</td>\n",
              "      <td>0.0</td>\n",
              "      <td>2000.0</td>\n",
              "      <td>1</td>\n",
              "      <td>2000.0</td>\n",
              "      <td>1</td>\n",
              "      <td>95</td>\n",
              "      <td>F</td>\n",
              "      <td>Online Operations</td>\n",
              "      <td>Media</td>\n",
              "      <td>Wechat - Pengyouquan</td>\n",
              "      <td>unknown</td>\n",
              "      <td>Employed</td>\n",
              "      <td>UCA-DBA</td>\n",
              "      <td>2021-04-13</td>\n",
              "      <td>***</td>\n",
              "      <td>False</td>\n",
              "      <td>C</td>\n",
              "      <td>unknown</td>\n",
              "      <td>0.00</td>\n",
              "      <td>268000</td>\n",
              "      <td>0</td>\n",
              "      <td>0</td>\n",
              "      <td>unknown</td>\n",
              "      <td>unknown</td>\n",
              "      <td>unknown</td>\n",
              "    </tr>\n",
              "    <tr>\n",
              "      <th>3</th>\n",
              "      <td>Individual</td>\n",
              "      <td>Lishanshan</td>\n",
              "      <td>unknown</td>\n",
              "      <td>unknown</td>\n",
              "      <td>2021-08-16</td>\n",
              "      <td>Lishanshan</td>\n",
              "      <td>Entire</td>\n",
              "      <td>Hemengjun</td>\n",
              "      <td>2021-01-16</td>\n",
              "      <td>2021-08-16 17:06</td>\n",
              "      <td>Lishanshan</td>\n",
              "      <td>Collected</td>\n",
              "      <td>129shi</td>\n",
              "      <td>Yes</td>\n",
              "      <td>False</td>\n",
              "      <td>0</td>\n",
              "      <td>0.0</td>\n",
              "      <td>0.0</td>\n",
              "      <td>0.0</td>\n",
              "      <td>0.0</td>\n",
              "      <td>0.0</td>\n",
              "      <td>0.0</td>\n",
              "      <td>0</td>\n",
              "      <td>0.0</td>\n",
              "      <td>0</td>\n",
              "      <td>40</td>\n",
              "      <td>D</td>\n",
              "      <td>Online Operations</td>\n",
              "      <td>Media</td>\n",
              "      <td>Wechat - Pengyouquan</td>\n",
              "      <td>unknown</td>\n",
              "      <td>Employed</td>\n",
              "      <td>ENPC-DBA-IMM</td>\n",
              "      <td>2021-08-16</td>\n",
              "      <td>***</td>\n",
              "      <td>False</td>\n",
              "      <td>C</td>\n",
              "      <td>1</td>\n",
              "      <td>0.05</td>\n",
              "      <td>588000</td>\n",
              "      <td>29400.00</td>\n",
              "      <td>2</td>\n",
              "      <td>Yes</td>\n",
              "      <td>2021-02-03</td>\n",
              "      <td>2021-08-16 17:06</td>\n",
              "    </tr>\n",
              "    <tr>\n",
              "      <th>4</th>\n",
              "      <td>Individual</td>\n",
              "      <td>Zhouwei</td>\n",
              "      <td>unknown</td>\n",
              "      <td>unknown</td>\n",
              "      <td>2021-09-24</td>\n",
              "      <td>Zhouwei</td>\n",
              "      <td>Entire</td>\n",
              "      <td>Hemengjun</td>\n",
              "      <td>unknown</td>\n",
              "      <td>2021-09-24 15:07</td>\n",
              "      <td>Zhouwei</td>\n",
              "      <td>Self-Configured</td>\n",
              "      <td>Mount Everest</td>\n",
              "      <td>Yes</td>\n",
              "      <td>False</td>\n",
              "      <td>0</td>\n",
              "      <td>0.0</td>\n",
              "      <td>0.0</td>\n",
              "      <td>0.0</td>\n",
              "      <td>0.0</td>\n",
              "      <td>0.0</td>\n",
              "      <td>0.0</td>\n",
              "      <td>0</td>\n",
              "      <td>0.0</td>\n",
              "      <td>0</td>\n",
              "      <td>40</td>\n",
              "      <td>D</td>\n",
              "      <td>Online Operations</td>\n",
              "      <td>Media</td>\n",
              "      <td>Wechat - Pengyouquan</td>\n",
              "      <td>unknown</td>\n",
              "      <td>Employed</td>\n",
              "      <td>General DBA</td>\n",
              "      <td>2021-09-24</td>\n",
              "      <td>**</td>\n",
              "      <td>True</td>\n",
              "      <td>C</td>\n",
              "      <td>1</td>\n",
              "      <td>0.05</td>\n",
              "      <td>300000</td>\n",
              "      <td>15000.00</td>\n",
              "      <td>5</td>\n",
              "      <td>unknown</td>\n",
              "      <td>unknown</td>\n",
              "      <td>2021-09-24 15:07</td>\n",
              "    </tr>\n",
              "  </tbody>\n",
              "</table>\n",
              "</div>"
            ],
            "text/plain": [
              "  customer type sales representative  ... repeated date most recent publish date\n",
              "0    Individual          Weijingjuan  ...       unknown         2021-09-15 16:51\n",
              "1    Individual           Lishanshan  ...    2021-01-06         2021-10-03 16:42\n",
              "2    Individual                Hewei  ...       unknown                  unknown\n",
              "3    Individual           Lishanshan  ...    2021-02-03         2021-08-16 17:06\n",
              "4    Individual              Zhouwei  ...       unknown         2021-09-24 15:07\n",
              "\n",
              "[5 rows x 45 columns]"
            ]
          },
          "metadata": {},
          "execution_count": 3
        }
      ],
      "source": [
        "df = df.rename(columns=str.lower).rename(columns={'most recent activity': 'most recent activity date'})\n",
        "df.head()"
      ]
    },
    {
      "cell_type": "code",
      "execution_count": null,
      "metadata": {
        "id": "s9OyBISLWLpm",
        "outputId": "46b13d7f-8bc3-4479-9d12-16f488bfc18a",
        "colab": {
          "base_uri": "https://localhost:8080/",
          "height": 452
        }
      },
      "outputs": [
        {
          "output_type": "execute_result",
          "data": {
            "text/html": [
              "<div>\n",
              "<style scoped>\n",
              "    .dataframe tbody tr th:only-of-type {\n",
              "        vertical-align: middle;\n",
              "    }\n",
              "\n",
              "    .dataframe tbody tr th {\n",
              "        vertical-align: top;\n",
              "    }\n",
              "\n",
              "    .dataframe thead th {\n",
              "        text-align: right;\n",
              "    }\n",
              "</style>\n",
              "<table border=\"1\" class=\"dataframe\">\n",
              "  <thead>\n",
              "    <tr style=\"text-align: right;\">\n",
              "      <th></th>\n",
              "      <th>customer type</th>\n",
              "      <th>sales representative</th>\n",
              "      <th>province</th>\n",
              "      <th>city</th>\n",
              "      <th>most recent activity date</th>\n",
              "      <th>most recent sales representative</th>\n",
              "      <th>customer pool</th>\n",
              "      <th>data creator</th>\n",
              "      <th>claim date</th>\n",
              "      <th>recent change date</th>\n",
              "      <th>recent editor</th>\n",
              "      <th>status</th>\n",
              "      <th>belonging department</th>\n",
              "      <th>business registration</th>\n",
              "      <th>do-not-disturb</th>\n",
              "      <th>number of signed contract</th>\n",
              "      <th>amount received</th>\n",
              "      <th>total contract amount</th>\n",
              "      <th>account receivable</th>\n",
              "      <th>non-collectibles</th>\n",
              "      <th>amount to be collected</th>\n",
              "      <th>actual amount collected</th>\n",
              "      <th>effective sales amount</th>\n",
              "      <th>total sales amount</th>\n",
              "      <th>finished customer</th>\n",
              "      <th>customer rating</th>\n",
              "      <th>interest category</th>\n",
              "      <th>customer source</th>\n",
              "      <th>source secondary classification</th>\n",
              "      <th>source third classification</th>\n",
              "      <th>source fourth classification</th>\n",
              "      <th>business category</th>\n",
              "      <th>interest program</th>\n",
              "      <th>information date</th>\n",
              "      <th>customer source star rating</th>\n",
              "      <th>dududu? (yes/no)</th>\n",
              "      <th>source code</th>\n",
              "      <th>customer update status</th>\n",
              "      <th>percentage</th>\n",
              "      <th>program sales total</th>\n",
              "      <th>expected sales</th>\n",
              "      <th>number of calls</th>\n",
              "      <th>repeated? (yes/no)</th>\n",
              "      <th>repeated date</th>\n",
              "      <th>most recent publish date</th>\n",
              "    </tr>\n",
              "  </thead>\n",
              "  <tbody>\n",
              "    <tr>\n",
              "      <th>2</th>\n",
              "      <td>Individual</td>\n",
              "      <td>Hewei</td>\n",
              "      <td>unknown</td>\n",
              "      <td>unknown</td>\n",
              "      <td>2021-04-13</td>\n",
              "      <td>Hewei</td>\n",
              "      <td>Entire</td>\n",
              "      <td>Hemengjun</td>\n",
              "      <td>2021-01-16</td>\n",
              "      <td>2021-08-20 10:27</td>\n",
              "      <td>Administrator</td>\n",
              "      <td>Collected</td>\n",
              "      <td>27jun</td>\n",
              "      <td>Yes</td>\n",
              "      <td>False</td>\n",
              "      <td>1</td>\n",
              "      <td>2000.0</td>\n",
              "      <td>370000.0</td>\n",
              "      <td>0.0</td>\n",
              "      <td>0.0</td>\n",
              "      <td>0.0</td>\n",
              "      <td>2000.0</td>\n",
              "      <td>1</td>\n",
              "      <td>2000.0</td>\n",
              "      <td>1</td>\n",
              "      <td>95</td>\n",
              "      <td>F</td>\n",
              "      <td>Online Operations</td>\n",
              "      <td>Media</td>\n",
              "      <td>Wechat - Pengyouquan</td>\n",
              "      <td>unknown</td>\n",
              "      <td>Employed</td>\n",
              "      <td>UCA-DBA</td>\n",
              "      <td>2021-04-13</td>\n",
              "      <td>***</td>\n",
              "      <td>False</td>\n",
              "      <td>C</td>\n",
              "      <td>unknown</td>\n",
              "      <td>0.0</td>\n",
              "      <td>268000</td>\n",
              "      <td>0</td>\n",
              "      <td>0</td>\n",
              "      <td>unknown</td>\n",
              "      <td>unknown</td>\n",
              "      <td>unknown</td>\n",
              "    </tr>\n",
              "    <tr>\n",
              "      <th>14</th>\n",
              "      <td>Individual</td>\n",
              "      <td>Gexiaodan</td>\n",
              "      <td>unknown</td>\n",
              "      <td>unknown</td>\n",
              "      <td>2021-03-09</td>\n",
              "      <td>Zhangmai</td>\n",
              "      <td>Entire</td>\n",
              "      <td>Zhangping</td>\n",
              "      <td>unknown</td>\n",
              "      <td>2021-08-20 10:27</td>\n",
              "      <td>Administrator</td>\n",
              "      <td>Self-Configured</td>\n",
              "      <td>Teaching Center</td>\n",
              "      <td>Yes</td>\n",
              "      <td>False</td>\n",
              "      <td>1</td>\n",
              "      <td>2000.0</td>\n",
              "      <td>2000.0</td>\n",
              "      <td>201319.9</td>\n",
              "      <td>0.0</td>\n",
              "      <td>201319.9</td>\n",
              "      <td>203319.9</td>\n",
              "      <td>2</td>\n",
              "      <td>203319.9</td>\n",
              "      <td>1</td>\n",
              "      <td>100</td>\n",
              "      <td>Official Student</td>\n",
              "      <td>Channel Center</td>\n",
              "      <td>Enrollment Proxy</td>\n",
              "      <td>unknown</td>\n",
              "      <td>unknown</td>\n",
              "      <td>Employed</td>\n",
              "      <td>ISTEC-DBA</td>\n",
              "      <td>2021-03-09</td>\n",
              "      <td>**</td>\n",
              "      <td>False</td>\n",
              "      <td>B</td>\n",
              "      <td>unknown</td>\n",
              "      <td>0.0</td>\n",
              "      <td>178000</td>\n",
              "      <td>0</td>\n",
              "      <td>0</td>\n",
              "      <td>unknown</td>\n",
              "      <td>unknown</td>\n",
              "      <td>unknown</td>\n",
              "    </tr>\n",
              "    <tr>\n",
              "      <th>32</th>\n",
              "      <td>Individual</td>\n",
              "      <td>Morong</td>\n",
              "      <td>unknown</td>\n",
              "      <td>unknown</td>\n",
              "      <td>2021-01-04</td>\n",
              "      <td>Morong</td>\n",
              "      <td>South - 2</td>\n",
              "      <td>Libin</td>\n",
              "      <td>unknown</td>\n",
              "      <td>2021-08-20 10:27</td>\n",
              "      <td>Administrator</td>\n",
              "      <td>Self-Configured</td>\n",
              "      <td>Southern 2</td>\n",
              "      <td>No</td>\n",
              "      <td>False</td>\n",
              "      <td>0</td>\n",
              "      <td>114654.4</td>\n",
              "      <td>0.0</td>\n",
              "      <td>0.0</td>\n",
              "      <td>0.0</td>\n",
              "      <td>0.0</td>\n",
              "      <td>114654.4</td>\n",
              "      <td>2</td>\n",
              "      <td>114654.4</td>\n",
              "      <td>1</td>\n",
              "      <td>95</td>\n",
              "      <td>F</td>\n",
              "      <td>Channel Center</td>\n",
              "      <td>Enrollment Proxy</td>\n",
              "      <td>unknown</td>\n",
              "      <td>unknown</td>\n",
              "      <td>Employed</td>\n",
              "      <td>ISTEC-DEM</td>\n",
              "      <td>2021-01-04</td>\n",
              "      <td>**</td>\n",
              "      <td>False</td>\n",
              "      <td>B</td>\n",
              "      <td>unknown</td>\n",
              "      <td>0.0</td>\n",
              "      <td>178000</td>\n",
              "      <td>0</td>\n",
              "      <td>0</td>\n",
              "      <td>unknown</td>\n",
              "      <td>unknown</td>\n",
              "      <td>unknown</td>\n",
              "    </tr>\n",
              "    <tr>\n",
              "      <th>43</th>\n",
              "      <td>Individual</td>\n",
              "      <td>Gexiaodan</td>\n",
              "      <td>unknown</td>\n",
              "      <td>unknown</td>\n",
              "      <td>2021-01-07</td>\n",
              "      <td>Shilinyu</td>\n",
              "      <td>Entire</td>\n",
              "      <td>Hemengjun</td>\n",
              "      <td>unknown</td>\n",
              "      <td>2021-08-20 10:27</td>\n",
              "      <td>Administrator</td>\n",
              "      <td>Self-Configured</td>\n",
              "      <td>Teaching Center</td>\n",
              "      <td>Yes</td>\n",
              "      <td>False</td>\n",
              "      <td>0</td>\n",
              "      <td>161942.4</td>\n",
              "      <td>0.0</td>\n",
              "      <td>0.0</td>\n",
              "      <td>0.0</td>\n",
              "      <td>0.0</td>\n",
              "      <td>161942.4</td>\n",
              "      <td>2</td>\n",
              "      <td>161942.4</td>\n",
              "      <td>1</td>\n",
              "      <td>95</td>\n",
              "      <td>F</td>\n",
              "      <td>Online Operations</td>\n",
              "      <td>Media</td>\n",
              "      <td>Wechat - Pengyouquan</td>\n",
              "      <td>unknown</td>\n",
              "      <td>Employed</td>\n",
              "      <td>UM-MHM</td>\n",
              "      <td>2021-01-07</td>\n",
              "      <td>**</td>\n",
              "      <td>False</td>\n",
              "      <td>C</td>\n",
              "      <td>unknown</td>\n",
              "      <td>0.0</td>\n",
              "      <td>156000</td>\n",
              "      <td>0</td>\n",
              "      <td>0</td>\n",
              "      <td>unknown</td>\n",
              "      <td>unknown</td>\n",
              "      <td>unknown</td>\n",
              "    </tr>\n",
              "    <tr>\n",
              "      <th>78</th>\n",
              "      <td>Individual</td>\n",
              "      <td>Morong</td>\n",
              "      <td>unknown</td>\n",
              "      <td>unknown</td>\n",
              "      <td>2021-02-24</td>\n",
              "      <td>Morong</td>\n",
              "      <td>South - 2</td>\n",
              "      <td>Libin</td>\n",
              "      <td>unknown</td>\n",
              "      <td>2021-08-20 10:27</td>\n",
              "      <td>Administrator</td>\n",
              "      <td>Signed Contract</td>\n",
              "      <td>Southern 2</td>\n",
              "      <td>Yes</td>\n",
              "      <td>False</td>\n",
              "      <td>0</td>\n",
              "      <td>152000.0</td>\n",
              "      <td>0.0</td>\n",
              "      <td>67158.5</td>\n",
              "      <td>0.0</td>\n",
              "      <td>67158.5</td>\n",
              "      <td>219158.5</td>\n",
              "      <td>2</td>\n",
              "      <td>219158.5</td>\n",
              "      <td>1</td>\n",
              "      <td>100</td>\n",
              "      <td>Official Student</td>\n",
              "      <td>Channel Center</td>\n",
              "      <td>Enrollment Proxy</td>\n",
              "      <td>unknown</td>\n",
              "      <td>unknown</td>\n",
              "      <td>Employed</td>\n",
              "      <td>ISTEC-DEM</td>\n",
              "      <td>2021-02-24</td>\n",
              "      <td>**</td>\n",
              "      <td>False</td>\n",
              "      <td>B</td>\n",
              "      <td>unknown</td>\n",
              "      <td>0.0</td>\n",
              "      <td>178000</td>\n",
              "      <td>0</td>\n",
              "      <td>0</td>\n",
              "      <td>unknown</td>\n",
              "      <td>unknown</td>\n",
              "      <td>unknown</td>\n",
              "    </tr>\n",
              "  </tbody>\n",
              "</table>\n",
              "</div>"
            ],
            "text/plain": [
              "   customer type sales representative  ... repeated date most recent publish date\n",
              "2     Individual                Hewei  ...       unknown                  unknown\n",
              "14    Individual            Gexiaodan  ...       unknown                  unknown\n",
              "32    Individual               Morong  ...       unknown                  unknown\n",
              "43    Individual            Gexiaodan  ...       unknown                  unknown\n",
              "78    Individual               Morong  ...       unknown                  unknown\n",
              "\n",
              "[5 rows x 45 columns]"
            ]
          },
          "metadata": {},
          "execution_count": 4
        }
      ],
      "source": [
        "#For ongoing customers, Total Contract Amount is greater than 0 and Amount Recieved might be 0. \n",
        "#For past customers, Amount Received is greater than 0 and Total Contract Amount is 0.\n",
        "successful_customers = df[(df['amount received'] > 0) | (df['total contract amount'] > 0)]\n",
        "successful_customers.head()"
      ]
    },
    {
      "cell_type": "code",
      "execution_count": null,
      "metadata": {
        "id": "JHZoXBnhWLpm",
        "outputId": "c4f9b86a-2631-4383-ad81-2d60436c64e6",
        "colab": {
          "base_uri": "https://localhost:8080/"
        }
      },
      "outputs": [
        {
          "output_type": "execute_result",
          "data": {
            "text/plain": [
              "sales representative\n",
              "Gexiaodan     75\n",
              "Lihuanhuan    34\n",
              "Zhaokeqing    19\n",
              "Fengyanyan    15\n",
              "Lirui         11\n",
              "Name: city, dtype: int64"
            ]
          },
          "metadata": {},
          "execution_count": 5
        }
      ],
      "source": [
        "num_suc_sales = successful_customers.groupby(\"sales representative\").count()['city'].sort_values(ascending = False)\n",
        "num_suc_sales.head()"
      ]
    },
    {
      "cell_type": "code",
      "execution_count": null,
      "metadata": {
        "id": "ColBGn4cWLpn",
        "outputId": "7018634f-9ea1-4122-f371-1a9ea2a5070a",
        "colab": {
          "base_uri": "https://localhost:8080/"
        }
      },
      "outputs": [
        {
          "output_type": "execute_result",
          "data": {
            "text/plain": [
              "sales representative\n",
              "Administrator    519\n",
              "Chenchaohui       29\n",
              "Chendongmei       41\n",
              "Chenhaotian        8\n",
              "Chenlimin        218\n",
              "Name: customer type, dtype: int64"
            ]
          },
          "metadata": {},
          "execution_count": 6
        }
      ],
      "source": [
        "tot_assigned_sales = df.groupby(['sales representative']).count()['customer type']\n",
        "tot_assigned_sales.head()"
      ]
    },
    {
      "cell_type": "code",
      "execution_count": null,
      "metadata": {
        "id": "YvTOjxYLWLpo",
        "outputId": "0c35aabc-0460-431c-8061-337b1d8ed0f7",
        "colab": {
          "base_uri": "https://localhost:8080/",
          "height": 394
        }
      },
      "outputs": [
        {
          "output_type": "execute_result",
          "data": {
            "text/html": [
              "<div>\n",
              "<style scoped>\n",
              "    .dataframe tbody tr th:only-of-type {\n",
              "        vertical-align: middle;\n",
              "    }\n",
              "\n",
              "    .dataframe tbody tr th {\n",
              "        vertical-align: top;\n",
              "    }\n",
              "\n",
              "    .dataframe thead th {\n",
              "        text-align: right;\n",
              "    }\n",
              "</style>\n",
              "<table border=\"1\" class=\"dataframe\">\n",
              "  <thead>\n",
              "    <tr style=\"text-align: right;\">\n",
              "      <th></th>\n",
              "      <th># of successful customer</th>\n",
              "      <th># of assigned customer</th>\n",
              "      <th>succ/assigned</th>\n",
              "    </tr>\n",
              "    <tr>\n",
              "      <th>sales representative</th>\n",
              "      <th></th>\n",
              "      <th></th>\n",
              "      <th></th>\n",
              "    </tr>\n",
              "  </thead>\n",
              "  <tbody>\n",
              "    <tr>\n",
              "      <th>Shizhanbin</th>\n",
              "      <td>1</td>\n",
              "      <td>1</td>\n",
              "      <td>1.000000</td>\n",
              "    </tr>\n",
              "    <tr>\n",
              "      <th>Gexiaodan</th>\n",
              "      <td>75</td>\n",
              "      <td>106</td>\n",
              "      <td>0.707547</td>\n",
              "    </tr>\n",
              "    <tr>\n",
              "      <th>Yangtiequan</th>\n",
              "      <td>2</td>\n",
              "      <td>3</td>\n",
              "      <td>0.666667</td>\n",
              "    </tr>\n",
              "    <tr>\n",
              "      <th>Liwen</th>\n",
              "      <td>4</td>\n",
              "      <td>19</td>\n",
              "      <td>0.210526</td>\n",
              "    </tr>\n",
              "    <tr>\n",
              "      <th>Lihuanhuan</th>\n",
              "      <td>34</td>\n",
              "      <td>170</td>\n",
              "      <td>0.200000</td>\n",
              "    </tr>\n",
              "    <tr>\n",
              "      <th>Mali</th>\n",
              "      <td>2</td>\n",
              "      <td>19</td>\n",
              "      <td>0.105263</td>\n",
              "    </tr>\n",
              "    <tr>\n",
              "      <th>Chendongmei</th>\n",
              "      <td>4</td>\n",
              "      <td>41</td>\n",
              "      <td>0.097561</td>\n",
              "    </tr>\n",
              "    <tr>\n",
              "      <th>Huangwanyun</th>\n",
              "      <td>3</td>\n",
              "      <td>39</td>\n",
              "      <td>0.076923</td>\n",
              "    </tr>\n",
              "    <tr>\n",
              "      <th>Tanxiaoxin</th>\n",
              "      <td>4</td>\n",
              "      <td>54</td>\n",
              "      <td>0.074074</td>\n",
              "    </tr>\n",
              "    <tr>\n",
              "      <th>Xiebin</th>\n",
              "      <td>10</td>\n",
              "      <td>144</td>\n",
              "      <td>0.069444</td>\n",
              "    </tr>\n",
              "  </tbody>\n",
              "</table>\n",
              "</div>"
            ],
            "text/plain": [
              "                      # of successful customer  ...  succ/assigned\n",
              "sales representative                            ...               \n",
              "Shizhanbin                                   1  ...       1.000000\n",
              "Gexiaodan                                   75  ...       0.707547\n",
              "Yangtiequan                                  2  ...       0.666667\n",
              "Liwen                                        4  ...       0.210526\n",
              "Lihuanhuan                                  34  ...       0.200000\n",
              "Mali                                         2  ...       0.105263\n",
              "Chendongmei                                  4  ...       0.097561\n",
              "Huangwanyun                                  3  ...       0.076923\n",
              "Tanxiaoxin                                   4  ...       0.074074\n",
              "Xiebin                                      10  ...       0.069444\n",
              "\n",
              "[10 rows x 3 columns]"
            ]
          },
          "metadata": {},
          "execution_count": 7
        }
      ],
      "source": [
        "sales_perf = num_suc_sales.to_frame().join(tot_assigned_sales).rename({'customer type': '# of assigned customer', 'city': '# of successful customer'}, axis='columns').fillna(0)\n",
        "sales_perf['succ/assigned'] = sales_perf['# of successful customer']/sales_perf['# of assigned customer']\n",
        "sales_perf.sort_values(by = 'succ/assigned', ascending = False).head(10)"
      ]
    },
    {
      "cell_type": "code",
      "execution_count": null,
      "metadata": {
        "id": "WTfD_0fCWLpp",
        "outputId": "e11b8c3c-e760-4db0-b030-b21eb27f1e3d",
        "colab": {
          "base_uri": "https://localhost:8080/",
          "height": 424
        }
      },
      "outputs": [
        {
          "output_type": "execute_result",
          "data": {
            "text/html": [
              "<div>\n",
              "<style scoped>\n",
              "    .dataframe tbody tr th:only-of-type {\n",
              "        vertical-align: middle;\n",
              "    }\n",
              "\n",
              "    .dataframe tbody tr th {\n",
              "        vertical-align: top;\n",
              "    }\n",
              "\n",
              "    .dataframe thead th {\n",
              "        text-align: right;\n",
              "    }\n",
              "</style>\n",
              "<table border=\"1\" class=\"dataframe\">\n",
              "  <thead>\n",
              "    <tr style=\"text-align: right;\">\n",
              "      <th></th>\n",
              "      <th>amount received</th>\n",
              "      <th>total contract amount</th>\n",
              "      <th>number of signed contract</th>\n",
              "    </tr>\n",
              "  </thead>\n",
              "  <tbody>\n",
              "    <tr>\n",
              "      <th>2</th>\n",
              "      <td>2000.00</td>\n",
              "      <td>370000.0</td>\n",
              "      <td>1</td>\n",
              "    </tr>\n",
              "    <tr>\n",
              "      <th>14</th>\n",
              "      <td>2000.00</td>\n",
              "      <td>2000.0</td>\n",
              "      <td>1</td>\n",
              "    </tr>\n",
              "    <tr>\n",
              "      <th>32</th>\n",
              "      <td>114654.40</td>\n",
              "      <td>0.0</td>\n",
              "      <td>0</td>\n",
              "    </tr>\n",
              "    <tr>\n",
              "      <th>43</th>\n",
              "      <td>161942.40</td>\n",
              "      <td>0.0</td>\n",
              "      <td>0</td>\n",
              "    </tr>\n",
              "    <tr>\n",
              "      <th>78</th>\n",
              "      <td>152000.00</td>\n",
              "      <td>0.0</td>\n",
              "      <td>0</td>\n",
              "    </tr>\n",
              "    <tr>\n",
              "      <th>...</th>\n",
              "      <td>...</td>\n",
              "      <td>...</td>\n",
              "      <td>...</td>\n",
              "    </tr>\n",
              "    <tr>\n",
              "      <th>8871</th>\n",
              "      <td>2000.00</td>\n",
              "      <td>0.0</td>\n",
              "      <td>0</td>\n",
              "    </tr>\n",
              "    <tr>\n",
              "      <th>9129</th>\n",
              "      <td>2000.00</td>\n",
              "      <td>0.0</td>\n",
              "      <td>0</td>\n",
              "    </tr>\n",
              "    <tr>\n",
              "      <th>9530</th>\n",
              "      <td>2000.00</td>\n",
              "      <td>0.0</td>\n",
              "      <td>0</td>\n",
              "    </tr>\n",
              "    <tr>\n",
              "      <th>10114</th>\n",
              "      <td>2000.00</td>\n",
              "      <td>0.0</td>\n",
              "      <td>0</td>\n",
              "    </tr>\n",
              "    <tr>\n",
              "      <th>10265</th>\n",
              "      <td>5967.28</td>\n",
              "      <td>0.0</td>\n",
              "      <td>0</td>\n",
              "    </tr>\n",
              "  </tbody>\n",
              "</table>\n",
              "<p>298 rows × 3 columns</p>\n",
              "</div>"
            ],
            "text/plain": [
              "       amount received  total contract amount  number of signed contract\n",
              "2              2000.00               370000.0                          1\n",
              "14             2000.00                 2000.0                          1\n",
              "32           114654.40                    0.0                          0\n",
              "43           161942.40                    0.0                          0\n",
              "78           152000.00                    0.0                          0\n",
              "...                ...                    ...                        ...\n",
              "8871           2000.00                    0.0                          0\n",
              "9129           2000.00                    0.0                          0\n",
              "9530           2000.00                    0.0                          0\n",
              "10114          2000.00                    0.0                          0\n",
              "10265          5967.28                    0.0                          0\n",
              "\n",
              "[298 rows x 3 columns]"
            ]
          },
          "metadata": {},
          "execution_count": 8
        }
      ],
      "source": [
        "successful_customers[['amount received','total contract amount','number of signed contract']]"
      ]
    },
    {
      "cell_type": "code",
      "execution_count": null,
      "metadata": {
        "id": "jx0O2b0JWLpq"
      },
      "outputs": [],
      "source": [
        "df['success'] = (df['amount received'] > 0) | (df['total contract amount'] > 0)\n",
        "#df.to_csv(r'Sales_cleaning_sucess.csv', index=False)"
      ]
    },
    {
      "cell_type": "code",
      "execution_count": null,
      "metadata": {
        "id": "a4YQNrsOWLpr",
        "outputId": "04c1e30a-90e8-4e39-db19-45e00b27501a",
        "colab": {
          "base_uri": "https://localhost:8080/"
        }
      },
      "outputs": [
        {
          "output_type": "execute_result",
          "data": {
            "text/plain": [
              "Index(['customer type', 'sales representative', 'province', 'city',\n",
              "       'most recent activity date', 'most recent sales representative',\n",
              "       'customer pool', 'data creator', 'claim date', 'recent change date',\n",
              "       'recent editor', 'status', 'belonging department',\n",
              "       'business registration', 'do-not-disturb', 'number of signed contract',\n",
              "       'amount received', 'total contract amount', 'account receivable',\n",
              "       'non-collectibles', 'amount to be collected', 'actual amount collected',\n",
              "       'effective sales amount', 'total sales amount', 'finished customer',\n",
              "       'customer rating', 'interest category', 'customer source',\n",
              "       'source secondary classification', 'source third classification',\n",
              "       'source fourth classification', 'business category', 'interest program',\n",
              "       'information date', 'customer source star rating', 'dududu? (yes/no)',\n",
              "       'source code', 'customer update status', 'percentage',\n",
              "       'program sales total', 'expected sales', 'number of calls',\n",
              "       'repeated? (yes/no)', 'repeated date', 'most recent publish date',\n",
              "       'success'],\n",
              "      dtype='object')"
            ]
          },
          "metadata": {},
          "execution_count": 10
        }
      ],
      "source": [
        "df.columns"
      ]
    },
    {
      "cell_type": "code",
      "execution_count": null,
      "metadata": {
        "id": "-bgHub0sWLpt",
        "outputId": "d6d6a6dc-975c-4210-f8c3-235d055bc1b9",
        "colab": {
          "base_uri": "https://localhost:8080/"
        }
      },
      "outputs": [
        {
          "output_type": "stream",
          "name": "stdout",
          "text": [
            "customer type ['Individual' 'Channel' 'Education Abroad' 'Corporate' 'C+B']\n",
            "sales representative ['Weijingjuan' 'Lishanshan' 'Hewei' 'Zhouwei' 'Lirui' 'Lina' 'Shilinyu'\n",
            " 'Daiminmin' 'Leiduanyu' 'Zhangmai' 'Gexiaodan' 'Xuyan' 'Tangyiqiong'\n",
            " 'Wengxiaowen' 'Wanglanmei' 'Maobeilei' 'Xiebingbing' 'Linna - Resign'\n",
            " 'Yanying' 'Fengyanyan' 'Libin' 'Morong' 'Zhangping' 'Lihuanhuan'\n",
            " 'Chenchaohui' 'Lidexiang' 'Hulan' 'Xujun' 'Chenlimin' 'Sunningning'\n",
            " 'Hutianhong' 'Qianshujia' 'Huanglidi' 'Fuguoliang' 'Dujia' 'Wangyifan'\n",
            " 'Dingzhenhua' 'Xuyanli' 'Gonglijun' 'Xiebin' 'Yurong' 'Zhaokeqing'\n",
            " 'Jiangjin' 'Zhuyong' 'Yangtangzan' 'Wangjian' 'Mawanli' 'Libo' 'Raoyizhi'\n",
            " 'Mashuya' 'Zhangyao' 'Shengboyang' 'Fuyu' 'Gujiong' 'Wanglili' 'Wanghong'\n",
            " 'Liwen' 'Huangwanyun' 'Zhanghao' 'Administrator' 'Donghaosai'\n",
            " 'Chendongmei' 'Jiajing' 'Jinning' 'Xiaodong' 'Yangtiequan' 'Honghaixia'\n",
            " 'Shizhanbin' 'Zhouhualin' 'Wumingzhu' 'Yangzhan' 'Luosiyi' 'Chenhaotian'\n",
            " 'Zhouhonglin' 'Mali' 'Wucheng' 'Youmiao' 'Quwenpeng' 'Linlin' 'Linxieguo'\n",
            " 'Tanxiaoxin' 'Pengxiaogui' 'Jiangyongyong' 'Jiangxiao' 'Sunliping'\n",
            " 'Songhong' 'Zhaoweizheng' 'Zhangben' 'Xujingxian' 'Chenyuzhen' 'Dengqing'\n",
            " 'Tangzijun']\n",
            "province ['unknown' 'Shanghai' 'Guangdong' 'Sichuan' 'Xinjiang' 'Beijing' 'Jiangsu'\n",
            " 'Shandong' 'Jilin' 'Zhejiang' 'Henan' 'Fujian' 'Liaoning' 'Shanxi'\n",
            " 'Jiangxi' 'Hubei' 'Hebei' 'Guangxi' 'Chongqing' 'Shaanxi' 'Anhui' 'Hunan'\n",
            " 'Guizhou' 'Yunnan' 'Hainan' 'Tianjin' 'Neimenggu' 'Hongkong'\n",
            " 'Heilongjiang' 'Ningxia' 'Gansu' 'Taiwan']\n",
            "city ['unknown' 'Shanghai' 'Beijing' 'Zhengzhou' 'Suzhou' 'Xiamen' 'Taizhou'\n",
            " 'Nantong' 'Zibo' 'Luoyang' 'Zhoukou' 'Jinhua' 'Weifang' 'Jingzhou'\n",
            " 'Zhuma' 'Shijiazhuang' 'Xianning' 'Shangqiu' 'Changzhou' 'Zhongshan'\n",
            " 'Liuzhou' 'Chongqing' 'Huaian' 'Suqian' \"Xi'an\" 'Yuncheng' 'Nanjing'\n",
            " 'Shenzhen' 'Qingdao' 'Guangzhou' 'Baoding' 'Tangshan' 'Yantai'\n",
            " 'Zhanjiang' 'Fuyang' 'Dalian' 'Guilin' 'Langfang' 'Jiaozuo' 'Quanzhou'\n",
            " 'Jinan' 'Fuoshan' 'Nanning' 'Chongzuo' 'Taiyuan' 'Xinyang' 'Chenzhou'\n",
            " 'Wuhan' 'Linyi' 'Shaoxing' 'Weinan' 'Hangzhou' 'Wenzhou' 'Zhenjiang'\n",
            " 'Changsha' 'Dongying' 'Loudi' 'Ganzhou' 'Zaozhuang' 'Nanchang' 'Kunming'\n",
            " 'Chengdu' 'Hefei' 'Fuzhou' \"Tai'an\" 'Xuzhou' 'Zunyi' 'Anyang' 'Jining'\n",
            " 'Siangyang' 'Lvliang' 'Hanzhong' 'Dezhou' 'Jiangmen' 'Nanyang' 'Wuxi'\n",
            " 'Zhaotong' 'Pingdingshan' 'Shanwei' 'Haikou' 'Bijie' 'Handan' 'Yancheng'\n",
            " 'Shantou' 'Dongguan' 'Cangzhou' 'Tianjin' 'Yulin' 'Heyuan' 'Xinxiang'\n",
            " 'Kaifeng' 'Weihai' 'Huainan' 'Huhehaote' 'Linfen' 'Chengde' 'Ezhou'\n",
            " 'Shenyang' 'Sanya' 'Deyang' 'Ningbo' 'Puti' 'Guangan' 'Baoji' 'Bengbu'\n",
            " 'Chaozhou' 'Maoming' 'Guiyang' 'Zhaoqing' 'Hongkong' 'Xiaogan'\n",
            " 'Lianyungang' 'Luohe' 'Aletai' 'Jieyang' 'Meizhou' 'Jiaxing'\n",
            " 'Qinhuangdao' 'Jinzhong' 'Zhoushan' 'Wuhu' 'Longyan' 'Xingtai' 'Changde'\n",
            " 'Yibin' 'Yangjiang' 'Heze' 'Datong' 'Rizhao' 'Anqing' 'Huzhou' 'Xianyang'\n",
            " 'Jincheng' 'Hengyang' 'Xuancheng' 'Xiangtan' 'Changzhi' 'Yangquan'\n",
            " 'Shiyan' 'Jinzhou' 'Sanming' 'Lishui' 'Hechi' 'Liupanshui' 'Fuxin'\n",
            " 'Binzhou' 'Zhuhai' 'Tonglin' 'Changchun' 'Huizhou' 'Nanchong' 'Qinzhou'\n",
            " 'Huangshi' 'Jingdezhen' 'Baoshan' 'Mianyang' 'Anshan' 'Huanggang'\n",
            " 'Chuxiongyizu' 'Haerbin' 'Yingtan' 'Yuxi' 'Nanping' 'Pingxiang'\n",
            " 'Shangrao' 'Zhuzhou' 'Jiujiang' 'Zhangjiajie' 'Huangshan' 'Huaihua'\n",
            " 'Yueyang' 'Quzhou' 'Leshan' 'Liaocheng' 'Qianxinanbu' 'Shaoyang'\n",
            " 'Yangzhou' 'Jiamusi' 'Yinchuan' 'Huaibei' 'Ganzi' 'Zigong' 'Ziyang'\n",
            " 'Daqing' 'Suining' 'Mudanjiang' 'Tianshui' \"Bayannao'er\" 'Dazhou' 'Habi'\n",
            " 'Fushun' \"Ya'an\" 'Jingmen' 'Wulumuqi' 'Jilin' 'Baotou' 'Liuan' 'Luzhou'\n",
            " 'Xinyu' 'Wuzhong' 'Liaoyang' 'Yili' 'Putian' 'Xuchang' 'Chuzhou'\n",
            " 'Hengshui' 'Kashi' 'Shaoguan' 'Taiwan' 'Meishan' 'Puyang' 'Bazhong'\n",
            " 'Baise' 'Heihe' 'Panzhihua' 'Lanzhou' 'Yunfu' \"Pu'er\" 'Huludao'\n",
            " 'Maanshan']\n",
            "most recent activity date ['2021-09-15' '2021-10-03' '2021-04-13' '2021-08-16' '2021-09-24'\n",
            " '2021-05-28' '2021-09-03' '2021-10-09' '2021-09-26' '2021-09-18'\n",
            " '2021-01-06' '2021-01-04' '2021-01-29' '2021-03-09' '2021-06-02'\n",
            " '2021-06-29' '2021-08-30' '2021-10-08' '2021-01-07' '2021-03-18'\n",
            " '2021-01-26' '2021-04-02' '2021-09-28' 'unknown' '2021-03-12'\n",
            " '2021-09-02' '2021-03-04' '2021-06-01' '2021-09-08' '2021-01-28'\n",
            " '2021-04-29' '2021-09-05' '2021-03-15' '2021-07-15' '2021-04-30'\n",
            " '2021-07-30' '2021-05-07' '2021-03-23' '2021-06-18' '2021-01-14'\n",
            " '2021-09-10' '2021-09-16' '2021-02-24' '2021-01-08' '2021-01-11'\n",
            " '2021-09-07' '2021-06-08' '2021-09-29' '2021-03-17' '2021-03-25'\n",
            " '2021-08-24' '2021-03-08' '2021-09-14' '2021-04-27' '2021-08-11'\n",
            " '2021-08-10' '2021-09-13' '2021-04-01' '2021-04-23' '2021-08-18'\n",
            " '2021-07-25' '2021-06-17' '2021-03-16' '2021-08-09' '2021-01-25'\n",
            " '2021-01-13' '2021-09-23' '2021-01-20' '2021-04-12' '2021-08-19'\n",
            " '2021-08-21' '2021-07-09' '2021-01-19' '2021-07-28' '2021-01-15'\n",
            " '2021-08-26' '2021-09-30' '2021-08-13' '2021-08-04' '2021-02-04'\n",
            " '2021-09-17' '2021-02-22' '2021-10-07' '2021-03-19' '2021-06-10'\n",
            " '2021-03-13' '2021-01-22' '2021-01-21' '2021-05-08' '2021-02-26'\n",
            " '2021-04-15' '2021-03-29' '2021-04-20' '2021-07-27' '2021-09-27'\n",
            " '2021-06-16' '2021-07-02' '2021-10-02' '2021-02-02' '2021-08-05'\n",
            " '2021-07-20' '2021-08-06' '2021-02-01' '2021-03-26' '2021-09-25'\n",
            " '2021-02-03' '2021-03-03' '2021-03-11' '2021-01-27' '2021-05-11'\n",
            " '2021-03-28' '2021-07-03' '2021-06-09' '2021-06-25' '2021-04-07'\n",
            " '2021-06-13' '2021-04-28' '2021-03-05' '2021-02-05' '2021-07-08'\n",
            " '2021-04-06' '2021-03-10' '2021-09-01' '2021-08-23' '2021-03-30'\n",
            " '2021-08-12' '2021-05-14' '2021-08-25' '2021-02-20' '2021-01-30'\n",
            " '2021-08-27' '2021-09-22' '2021-02-07' '9/27/2021' '7/21/2021'\n",
            " '10/13/2021' '9/2/2021' '10/15/2021' '10/12/2021' '8/19/2021' '3/9/2021'\n",
            " '10/5/2021' '9/7/2021' '9/16/2021' '3/8/2021' '3/17/2021' '6/10/2021'\n",
            " '8/28/2021' '2/1/2021' '2/2/2021' '3/19/2021' '2/4/2021' '3/2/2021'\n",
            " '5/28/2021' '4/1/2021' '8/6/2021' '9/30/2021' '10/9/2021' '9/29/2021'\n",
            " '10/10/2021' '2/3/2021' '4/13/2021' '3/23/2021' '3/4/2021' '10/11/2021'\n",
            " '6/22/2021' '9/8/2021' '6/16/2021' '4/30/2021' '8/5/2021' '8/10/2021'\n",
            " '8/27/2021' '3/18/2021' '2/22/2021' '4/22/2021' '9/24/2021' '10/14/2021'\n",
            " '9/26/2021' '5/25/2021' '9/23/2021' '3/11/2021' '3/5/2021' '3/21/2021'\n",
            " '3/3/2021' '2/10/2021' '9/5/2021' '2/20/2021' '3/24/2021' '8/26/2021'\n",
            " '2/8/2021' '9/28/2021' '10/6/2021' '6/24/2021' '8/25/2021' '3/16/2021'\n",
            " '9/3/2021' '8/24/2021' '9/15/2021' '9/10/2021' '2/7/2021' '3/22/2021'\n",
            " '2/5/2021' '8/20/2021' '9/14/2021' '3/10/2021' '4/27/2021' '2/19/2021'\n",
            " '6/2/2021' '8/4/2021' '9/1/2021' '6/18/2021' '3/26/2021' '3/29/2021'\n",
            " '4/8/2021' '9/17/2021' '2/24/2021' '7/23/2021' '2/9/2021' '2/23/2021'\n",
            " '8/12/2021' '3/28/2021' '4/19/2021' '9/18/2021' '5/6/2021' '6/15/2021'\n",
            " '4/26/2021' '3/12/2021' '4/6/2021' '7/19/2021' '2/25/2021' '3/31/2021'\n",
            " '10/7/2021' '5/7/2021' '4/14/2021' '5/14/2021' '10/2/2021' '2/26/2021'\n",
            " '5/24/2021' '9/13/2021' '3/1/2021' '8/31/2021' '4/16/2021' '6/17/2021'\n",
            " '9/9/2021' '3/7/2021' '4/20/2021' '7/25/2021' '7/1/2021' '7/28/2021'\n",
            " '7/13/2021' '4/2/2021' '5/10/2021' '4/9/2021' '7/20/2021' '3/25/2021'\n",
            " '9/6/2021' '6/27/2021' '8/23/2021' '8/3/2021' '5/15/2021' '8/21/2021'\n",
            " '4/28/2021' '8/18/2021' '5/8/2021' '5/26/2021' '10/4/2021' '3/15/2021'\n",
            " '4/12/2021' '8/30/2021' '9/11/2021' '6/23/2021' '5/18/2021' '4/7/2021'\n",
            " '7/3/2021' '7/10/2021' '6/4/2021' '5/21/2021' '10/3/2021' '6/29/2021'\n",
            " '8/29/2021' '4/15/2021' '6/30/2021' '10/1/2021' '7/27/2021' '5/13/2021'\n",
            " '9/19/2021' '7/22/2021' '8/11/2021' '8/13/2021' '3/14/2021' '10/8/2021'\n",
            " '6/8/2021' '6/7/2021' '4/23/2021' '7/16/2021' '5/12/2021' '6/1/2021'\n",
            " '8/17/2021' '4/11/2021' '7/7/2021' '5/11/2021' '5/23/2021' '6/28/2021'\n",
            " '4/25/2021' '9/22/2021' '5/31/2021' '8/15/2021' '5/17/2021' '3/30/2021'\n",
            " '7/2/2021' '6/11/2021' '6/14/2021' '9/4/2021' '6/3/2021' '6/21/2021'\n",
            " '7/30/2021' '7/12/2021' '4/21/2021' '7/17/2021' '4/29/2021' '8/7/2021'\n",
            " '5/20/2021' '4/17/2021' '7/5/2021' '9/25/2021' '9/21/2021' '8/22/2021'\n",
            " '8/1/2021' '7/8/2021' '6/19/2021' '4/24/2021' '6/9/2021' '5/27/2021'\n",
            " '7/4/2021' '8/16/2021' '6/25/2021' '8/2/2021' '7/15/2021' '8/9/2021'\n",
            " '5/30/2021' '5/1/2021' '6/13/2021' '5/19/2021' '7/6/2021' '5/9/2021'\n",
            " '7/24/2021' '6/6/2021' '5/16/2021' '7/9/2021' '7/18/2021' '8/8/2021'\n",
            " '7/26/2021' '5/29/2021' '6/20/2021' '7/14/2021' '6/12/2021' '9/12/2021'\n",
            " '7/29/2021' '7/11/2021' '8/14/2021' '7/31/2021' '9/20/2021']\n",
            "most recent sales representative ['Weijingjuan' 'Lishanshan' 'Hewei' 'Zhouwei' 'Lirui' 'Lina' 'Shilinyu'\n",
            " 'Daiminmin' 'Leiduanyu' 'Zhangmai' 'Wuzongzhen' 'Yumeng' 'Tangyiqiong'\n",
            " 'Songhong' 'Wanglanmei' 'Liulinfang' 'Xiebingbing' 'Linna - Resign'\n",
            " 'Yanying' 'Fengyanyan' 'unknown' 'Morong' 'Chenchaohui' 'Lidexiang'\n",
            " 'Hulan' 'Xujun' 'Chenlimin' 'Yangzhan' 'Xuyanli' 'Jiangshuwen'\n",
            " 'Qianshujia' 'Huanglidi' 'Xujiduo' 'Liwenjun' 'Fuguoliang' 'Wangyifan'\n",
            " 'Dujia' 'Helijuan' 'Dingzhenhua' 'Wengxiaowen' 'Xinmin' 'Xiebin'\n",
            " 'Zhaokeqing' 'Jiangjin' 'Houaoao' 'Zhangzhiheng' 'Libin' 'Yurong'\n",
            " 'Liushulin' 'Chengyuanliang' 'Zhuyong' 'Zhangping' 'Leiyalan' 'Mawanli'\n",
            " 'Husijie' 'Maobeilei' 'Linhan' 'Quwenpeng' 'Raoyizhi' 'Wanglili'\n",
            " 'Mashuya' 'Fuyu' 'Zhangyao' 'Sunsongtao' 'Gonglijun' 'Wanghong'\n",
            " 'Libaizhong' 'Huangwanyun' 'Libo' 'Administrator' 'Donghaosai'\n",
            " 'Chendongmei' 'Zhouhualin' 'Jiajing' 'Wumingzhu' 'Gujiong' 'Luosiyi'\n",
            " 'Renhongxia' 'Chenhaotian' 'Zhouhonglin' 'Mali' 'Limeiyi' 'Chendingshen'\n",
            " 'Xuchi' 'Hutianhong' 'Linlin' 'Yanyongjun' 'Jiangxiao' 'Maqiande'\n",
            " 'Wucheng' 'Tanxiaoxin' 'Huajiayi' 'Wangshengbing' 'Shengboyang'\n",
            " 'Pengxiaogui' 'Lihuanhuan' 'Lvguoliang' 'Nanyue' 'Zhaoying'\n",
            " 'Chenyongying' 'Lixiaodong' 'Jinning' 'Sunningning' 'Zhanghao'\n",
            " 'Honghaixia']\n",
            "customer pool ['Entire - Collectible' 'Entire' 'East - 1' 'World' 'South - 2'\n",
            " 'Education Abroad' 'East - 3' 'Research' 'East - 4' 'East - 2'\n",
            " 'South - 3' 'DIU' 'South' 'South - 1' 'West' 'North' 'East - 5'\n",
            " 'Education Abroad Exchange' 'Innovative' 'Garbage' 'UCA-DBA']\n",
            "data creator ['Zhangmeng' 'Hemengjun' 'Yujiahui' 'Zhangping' 'Wangdi' 'Xiebingbing'\n",
            " 'Libin' 'Dengqing' 'Luying' 'Zhaoweizheng' 'Chenlimin' 'Gexiaodan'\n",
            " 'Fengyanyan' 'Gaojun' 'Pengxiaogui' 'Lirui' 'Wangyifan' 'Liushulin'\n",
            " 'Gonglijun' 'Lihuanhuan' 'Zhouhonglin' 'Yurong' 'Chengyuanliang'\n",
            " 'Daiminmin' 'Xinmin' 'Maobeilei' 'Administrator' 'Tangyiqiong'\n",
            " 'Chendongmei' 'Zhuyong' 'Leiyalan' 'Yangtiequan' 'Honghaixia'\n",
            " 'Shengyifei' 'Lidexiang' 'Husijie' 'Mashuya' 'Zhaokeqing' 'Gujiong'\n",
            " 'Chenhaotian' 'Yanying' 'API' 'Helijuan' 'Shilinyu' 'Linhan' 'Yumeng'\n",
            " 'Dujia' 'Jiajing' 'Libo' 'Wangshengbing' 'Lishanshan' 'Zengming'\n",
            " 'Xuyanli' 'Mawanli' 'Zhangmai' 'Suixiaojun' 'Sunningning' 'Fuguoliang'\n",
            " 'Zhangben' 'Zhuxianyu' 'Luosiyi' 'Jiangjin' 'Zhouhualin' 'Hewei' 'Xiebin'\n",
            " 'Tangzijun' 'Wengxiaowen' 'Hutianhong' 'Jiangyongyong' 'Shengboyang'\n",
            " 'Raoyizhi' 'Lina' 'Wucheng' 'Yangtangzan' 'Fuyu' 'Wanglanmei']\n",
            "claim date ['2021-09-15' '2021-01-16' 'unknown' '2021-05-28' '2021-02-02'\n",
            " '2021-09-16' '2021-09-13' '2021-08-30' '2021-05-10' '2021-03-15'\n",
            " '2021-09-14' '2021-09-30' '2021-09-05' '2021-06-21' '2021-09-03'\n",
            " '2021-03-25' '2021-03-03' '2021-03-16' '2021-08-04' '2021-06-02'\n",
            " '2021-03-08' '2021-08-19' '2021-04-24' '2021-09-28' '2021-08-16'\n",
            " '2021-08-10' '2021-05-25' '2021-06-15' '2021-08-26' '2021-04-06'\n",
            " '2021-09-26' '2021-03-26' '2021-09-08' '2021-03-04' '2021-05-12'\n",
            " '2021-08-15' '2021-08-24' '2021-02-22' '2021-03-09' '2021-09-22'\n",
            " '2021-08-02' '2021-10-08' '2021-09-17' '2021-08-05' '7/29/2021'\n",
            " '7/7/2021' '5/25/2021' '3/4/2021' '7/30/2021' '3/8/2021' '6/9/2021'\n",
            " '8/19/2021' '9/28/2021' '10/13/2021' '6/2/2021' '9/1/2021' '10/14/2021'\n",
            " '9/8/2021' '9/14/2021' '9/13/2021' '9/5/2021' '10/8/2021' '8/25/2021'\n",
            " '7/13/2021' '7/12/2021' '8/9/2021' '6/11/2021' '9/18/2021' '3/12/2021'\n",
            " '5/6/2021' '7/4/2021' '6/18/2021' '8/11/2021' '9/30/2021' '8/15/2021'\n",
            " '9/29/2021' '8/10/2021' '8/3/2021' '7/16/2021' '6/28/2021' '4/26/2021'\n",
            " '5/18/2021' '9/7/2021' '7/23/2021' '8/24/2021' '5/12/2021' '9/11/2021'\n",
            " '5/27/2021' '8/20/2021' '8/23/2021' '7/27/2021' '9/2/2021' '5/10/2021'\n",
            " '10/9/2021' '7/19/2021' '5/26/2021' '7/5/2021' '8/16/2021' '5/13/2021'\n",
            " '6/24/2021' '6/22/2021' '9/24/2021' '7/21/2021' '9/23/2021' '5/3/2021'\n",
            " '7/8/2021' '7/6/2021' '8/1/2021' '7/22/2021' '6/16/2021' '7/20/2021'\n",
            " '8/27/2021' '8/5/2021' '8/14/2021' '6/3/2021' '9/10/2021' '6/8/2021'\n",
            " '9/3/2021' '7/1/2021' '9/22/2021' '8/12/2021' '4/15/2021' '9/9/2021'\n",
            " '8/18/2021' '6/23/2021' '5/28/2021' '9/6/2021' '4/28/2021' '9/26/2021'\n",
            " '10/15/2021' '6/21/2021' '10/12/2021' '5/11/2021' '8/31/2021' '9/21/2021'\n",
            " '9/16/2021' '9/27/2021' '7/15/2021' '4/23/2021' '8/4/2021' '9/15/2021'\n",
            " '4/27/2021' '7/14/2021' '7/28/2021' '7/2/2021' '5/9/2021' '6/1/2021'\n",
            " '7/9/2021' '8/17/2021' '5/17/2021' '8/7/2021' '8/13/2021' '10/11/2021'\n",
            " '5/31/2021' '9/25/2021' '6/29/2021' '6/5/2021' '8/2/2021' '8/26/2021'\n",
            " '6/4/2021' '8/30/2021' '6/30/2021' '8/6/2021' '7/26/2021' '6/25/2021'\n",
            " '8/8/2021' '6/10/2021' '9/17/2021' '9/4/2021' '10/4/2021' '9/19/2021'\n",
            " '8/29/2021' '8/28/2021']\n",
            "recent change date ['2021-10-09 15:08' '2021-10-03 16:42' '2021-08-20 10:27' ...\n",
            " '10/15/2021 13:28' '10/15/2021 14:15' '10/15/2021 14:27']\n",
            "recent editor ['Weijingjuan' 'Lishanshan' 'Administrator' 'Zhouwei' 'Lina' 'Shilinyu'\n",
            " 'Daiminmin' 'Leiduanyu' 'Zhangmai' 'Linna - Resign' 'Tangyiqiong'\n",
            " 'Xujingxian' 'Wanglanmei' 'Yanying' 'Fengyanyan' 'Zhangping' 'Hulan'\n",
            " 'Lirui' 'Chenlimin' 'Cengming' 'Pengxiaogui' 'Hutianhong' 'Lidexiang'\n",
            " 'Qianshujia' 'Huanglidi' 'Fuguoliang' 'Dujia' 'Wengxiaowen' 'Zhouhonglin'\n",
            " 'Dingzhenhua' 'Xuyanli' 'Xiebin' 'Morong' 'Huwenqing' 'Houaoao'\n",
            " 'Tangzijun' 'Chenchaohui' 'Yurong' 'Mawanli' 'Liwen' 'Raoyizhi' 'Mashuya'\n",
            " 'Fuyu' 'Zhangyao' 'Gonglijun' 'Wanglili' 'Wanghong' 'Huangxiaoying'\n",
            " 'Hewei' 'Wangyifan' 'Libaizhong' 'Huangwanyun' 'Zhaokeqing' 'Donghaosai'\n",
            " 'Jiangjin' 'Chendongmei' 'Liushulin' 'Xiaodong' 'Jinning' 'Honghaixia'\n",
            " 'Xiebingbing' 'Zhouhualin' 'Zhuyong' 'Wumingzhu' 'Jiajing' 'Yangzhan'\n",
            " 'Luosiyi' 'Libin' 'Maobeilei' 'Caoyongli' 'Xinmin' 'Libo' 'Quwenpeng'\n",
            " 'Huajiayi' 'Linlin' 'Shengboyang' 'Gaokaili' 'Xuchi' 'Gujiong'\n",
            " 'Jiangxiao' 'Tanxiaoxin' 'Zhanghao' 'Lvguoliang' 'Wucheng' 'Lihuanhuan'\n",
            " 'Songhong' 'Gexiaodan' 'Renhongxia' 'Sun liping' 'Zhangben' 'Surong'\n",
            " 'Nanyue' 'Zhaoweizheng' 'Mali' 'Sunningning' 'Jiangyongyong'\n",
            " 'Yangtangzan' 'Dengqing' 'Yumeng']\n",
            "status ['Collected' 'Self-Configured' 'Signed Contract']\n",
            "belonging department ['Southern 2' '129shi' '27jun' 'Mount Everest' 'Southern 3'\n",
            " 'Teaching Center' 'TMK' 'Operations' 'unknown' 'US Military Academy'\n",
            " 'Southern 1' 'Data Operations Center' 'Project Management'\n",
            " 'Study Broad Center' 'West Center' 'Northern Center'\n",
            " 'Southern Big Customer' 'eastern big companies' 'Innovation Division'\n",
            " 'eastern 5' 'Online University' 'Alumni Development Center' 'World'\n",
            " 'eastern center' 'UCMT 0NLINE' 'EASA' 'Online Operations']\n",
            "business registration ['Yes' 'No' 'unknown']\n",
            "do-not-disturb [False  True]\n",
            "amount received [0.0000000e+00 2.0000000e+03 1.1465440e+05 1.6194240e+05 1.5200000e+05\n",
            " 5.3491640e+05 3.7492512e+05 2.2350770e+05 1.0800000e+05 3.7487488e+05\n",
            " 4.2317440e+05 1.1175955e+05 1.1162350e+05 1.1170615e+05 2.2000000e+04\n",
            " 6.2427750e+04 1.1164240e+05 6.2398350e+04 1.1454160e+05 8.4000000e+04\n",
            " 5.6109360e+05 1.0127080e+05 6.8607400e+04 8.3296200e+04 1.5348730e+05\n",
            " 8.2474000e+04 1.9441990e+05 1.5007400e+05 9.5320000e+04 1.6392400e+05\n",
            " 1.6191500e+05 1.7427300e+05 4.0000000e+03 1.7200000e+05 1.5348700e+05\n",
            " 3.8454900e+05 2.0348700e+05 2.2432000e+05 1.2500000e+06 2.0337400e+05\n",
            " 4.2313100e+05 2.0324700e+05 8.3265600e+04 3.3142500e+05 1.0337400e+05\n",
            " 1.4459200e+05 3.8467300e+05 2.0341200e+05 1.5598700e+05 5.0000000e+04\n",
            " 2.2350800e+05 3.5090900e+05 3.5483700e+05 1.0529200e+05 1.2000000e+04\n",
            " 3.0243200e+05 3.5479700e+05 1.3962400e+05 2.0597300e+05 3.2202400e+05\n",
            " 1.6387400e+05 1.1162400e+05 6.2427800e+04 1.0338700e+05 4.0351200e+05\n",
            " 2.0313100e+05 3.8497300e+05 3.6636300e+05 2.2285600e+05 3.8455200e+05\n",
            " 1.6390000e+05 1.1141800e+05 3.8498800e+05 1.1506700e+05 2.2312700e+05\n",
            " 1.2442600e+05 3.5497300e+05 1.7696000e+05 4.2319200e+05 9.1000000e+04\n",
            " 3.5511100e+05 2.5000000e+05 1.1171600e+05 1.6391800e+05 1.5890200e+05\n",
            " 1.9850800e+05 6.4662900e+05 1.7000000e+05 3.3150800e+05 1.8879700e+05\n",
            " 3.5515700e+05 2.7756200e+05 2.0358400e+05 1.3342600e+05 2.0299400e+05\n",
            " 3.5508700e+05 1.6383600e+05 3.5343100e+05 3.5466900e+05 3.3875700e+05\n",
            " 1.6383200e+05 1.5358400e+05 2.2328500e+05 1.0000000e+03 3.2943800e+05\n",
            " 2.2358400e+05 6.2111600e+05 3.5218500e+05 2.3844400e+05 3.8435900e+05\n",
            " 1.6383500e+05 2.0087300e+05 3.3666700e+05 6.1285400e+05 3.2160700e+05\n",
            " 3.6895100e+05 3.5333700e+05 4.0356200e+05 1.2499400e+05 3.8460400e+05\n",
            " 6.9427100e+04 2.1000000e+06 2.0283700e+05 2.0000000e+02 2.9233400e+05\n",
            " 1.6384400e+05 7.1533400e+04 3.3691900e+05 3.5331900e+05 1.6388600e+05\n",
            " 5.0000000e+03 1.1643200e+05 3.8235900e+05 1.8079400e+05 2.0292200e+05\n",
            " 5.8061000e+03 1.1156400e+05 3.8366900e+05 3.6354900e+05 1.6383300e+05\n",
            " 6.1289100e+05 1.5593600e+05 3.8445100e+05 7.3533400e+04 2.3645100e+05\n",
            " 1.6182000e+05 3.8496000e+05 8.5835800e+04 2.2292200e+05 5.4922400e+04\n",
            " 2.2288900e+05 4.4689100e+04 3.8441500e+05 3.6375600e+05 3.3123600e+05\n",
            " 1.1492200e+05 2.2279700e+05 6.1079700e+05 3.5274700e+05 2.2301800e+05\n",
            " 2.2285400e+05 3.5289100e+05 2.0537800e+05 3.8441700e+05 1.6383400e+05\n",
            " 2.0200000e+04 2.2277000e+05 3.8428800e+05 6.1285600e+05 1.6376200e+05\n",
            " 3.8241600e+05 7.1385100e+04 6.2067200e+05 2.7400000e+05 1.8399500e+05\n",
            " 7.1427800e+04 1.2280000e+05 1.5590900e+05 5.9672800e+03]\n",
            "total contract amount [0.00000e+00 3.70000e+05 2.00000e+03 1.11500e+05 4.40000e+05 6.00000e+05\n",
            " 2.40000e+01 1.65000e+05 4.04000e+05 2.40000e+05 3.82417e+05]\n",
            "account receivable [ 0.000000e+00  2.013199e+05  6.715850e+04  8.942775e+04  4.900000e+04\n",
            "  2.000000e+03  1.090000e+05  5.380000e+05 -2.000000e+03  5.107670e+04\n",
            "  1.542080e+04  3.000000e+03  2.116800e+05  1.853920e+05 -1.200000e+04\n",
            "  3.824510e+05  1.990000e+04  2.080000e+05  2.639920e+05  5.000000e+04\n",
            "  1.640000e+05  3.000000e+04  1.980000e+05  5.000000e-02  6.188360e+05\n",
            "  1.134000e+03  1.840000e+05  9.800000e+04  2.000000e+04  1.558000e+05\n",
            "  1.000000e+04  1.015070e+05  1.480000e+05  4.909800e+04  7.010000e+04\n",
            "  3.744000e+05  1.680000e+05  1.782000e+05  2.062210e+04  1.790000e+05\n",
            "  1.617300e+05  9.794800e+04  8.942780e+04  3.288510e+05  3.623880e+05]\n",
            "non-collectibles [ 0.00000e+00 -1.80000e+04 -1.48000e+05  1.50074e+05  9.25248e+03\n",
            "  1.56500e+05  2.37780e+02  1.20000e+04  3.84986e+05  4.90000e+04\n",
            " -1.99000e+04  8.80000e+04  9.90000e+04 -3.00000e+04  3.03157e+05\n",
            "  7.13332e+05  5.00000e+03  1.00000e+04  2.00000e+03 -1.13400e+03\n",
            "  2.21067e+05 -1.00000e+04  2.10000e+06 -2.00000e+03  8.04045e+05\n",
            " -1.68000e+05  3.61200e+05]\n",
            "amount to be collected [0.0000000e+00 2.0131990e+05 6.7158500e+04 2.0100000e+05 1.1170615e+05\n",
            " 8.9427750e+04 4.9000000e+04 2.0000000e+03 1.1100000e+05 6.9596200e+04\n",
            " 5.3800000e+05 5.1076700e+04 1.5420800e+04 1.5650000e+05 3.0000000e+03\n",
            " 2.1168000e+05 1.8539200e+05 2.0000000e+04 3.8245100e+05 1.9900000e+04\n",
            " 2.0800000e+05 2.6399200e+05 5.0000000e+04 1.6500000e+05 1.6400000e+05\n",
            " 3.0000000e+04 1.9800000e+05 6.5102800e+04 5.0000000e-02 6.1883600e+05\n",
            " 3.8315700e+05 1.1340000e+03 2.3066700e+04 1.8400000e+05 4.0356200e+05\n",
            " 9.8000000e+04 2.1000000e+06 1.5580000e+05 1.0000000e+04 1.0150700e+05\n",
            " 1.4800000e+05 4.9098000e+04 7.0100000e+04 5.6128800e+05 1.6800000e+05\n",
            " 1.7820000e+05 2.0622100e+04 1.7900000e+05 1.6173000e+05 9.7948000e+04\n",
            " 8.9427800e+04 3.2885100e+05 7.2477600e+05]\n",
            "actual amount collected [0.0000000e+00 2.0000000e+03 2.0331990e+05 1.1465440e+05 1.6194240e+05\n",
            " 2.1915850e+05 5.3491640e+05 3.7492512e+05 2.2350770e+05 1.0800000e+05\n",
            " 3.7487488e+05 4.2317440e+05 1.1175955e+05 1.1162350e+05 1.1170615e+05\n",
            " 1.1142775e+05 1.1164240e+05 1.1139835e+05 2.2354160e+05 8.4000000e+04\n",
            " 5.6109360e+05 1.0127080e+05 6.8607400e+04 8.3296200e+04 1.5348730e+05\n",
            " 6.2047400e+05 1.9441990e+05 1.4807400e+05 1.4639700e+05 1.6392400e+05\n",
            " 1.6191500e+05 1.7427300e+05 4.0000000e+03 1.8742100e+05 1.5348700e+05\n",
            " 3.8454900e+05 2.0348700e+05 2.2432000e+05 1.2500000e+06 2.0337400e+05\n",
            " 4.2313100e+05 2.0624700e+05 8.3265600e+04 3.3142500e+05 1.0337400e+05\n",
            " 1.4459200e+05 3.8467300e+05 2.0341200e+05 1.5598700e+05 5.0000000e+04\n",
            " 2.2350800e+05 5.6258900e+05 3.5483700e+05 2.9068500e+05 3.0243200e+05\n",
            " 3.5479700e+05 1.3962400e+05 2.0597300e+05 3.2202400e+05 1.6387400e+05\n",
            " 3.8445100e+05 1.1162400e+05 6.2427800e+04 1.0338700e+05 4.2341200e+05\n",
            " 2.0313100e+05 3.8497300e+05 3.6636300e+05 2.2285600e+05 3.8455200e+05\n",
            " 1.6390000e+05 1.1141800e+05 3.8498800e+05 1.1506700e+05 2.2312700e+05\n",
            " 1.2442600e+05 3.5497300e+05 3.8496000e+05 4.2319200e+05 3.5499200e+05\n",
            " 3.5511100e+05 2.5000000e+05 5.2000000e+04 1.1171600e+05 1.6391800e+05\n",
            " 1.5890200e+05 1.9850800e+05 6.4662900e+05 1.7000000e+05 3.3150800e+05\n",
            " 3.5279700e+05 3.8515700e+05 2.7756200e+05 2.0358400e+05 3.3142600e+05\n",
            " 2.0299400e+05 1.1142800e+05 3.5508700e+05 1.6383600e+05 3.5343100e+05\n",
            " 6.2083600e+05 3.5466900e+05 3.3875700e+05 1.6383200e+05 1.5358400e+05\n",
            " 2.2328500e+05 1.0000000e+03 3.3143800e+05 2.2358400e+05 6.2111600e+05\n",
            " 3.5331900e+05 2.3844400e+05 3.8435900e+05 1.6383500e+05 3.8487300e+05\n",
            " 3.3666700e+05 6.1285400e+05 3.2160700e+05 4.1895100e+05 3.5333700e+05\n",
            " 4.0556200e+05 2.2299400e+05 3.8460400e+05 6.9427100e+04 2.1000000e+06\n",
            " 2.2283700e+05 2.0000000e+02 2.9233400e+05 1.6384400e+05 7.1533400e+04\n",
            " 3.3691900e+05 1.6388600e+05 5.0000000e+03 1.1643200e+05 3.8235900e+05\n",
            " 3.3659400e+05 2.0292200e+05 5.8061000e+03 1.1156400e+05 3.9366900e+05\n",
            " 3.8354900e+05 1.6383300e+05 1.0150700e+05 6.1289100e+05 1.5593600e+05\n",
            " 7.3533400e+04 1.6382000e+05 4.3405800e+05 3.7440000e+05 2.2292200e+05\n",
            " 2.2288900e+05 3.8441500e+05 3.8437800e+05 3.3123600e+05 1.1492200e+05\n",
            " 2.2279700e+05 6.1079700e+05 3.5274700e+05 2.2301800e+05 2.2285400e+05\n",
            " 3.5289100e+05 3.8441700e+05 1.6383400e+05 2.0200000e+04 2.2277000e+05\n",
            " 3.8428800e+05 6.1285600e+05 1.6376200e+05 3.8441600e+05 7.1385100e+04\n",
            " 6.2067200e+05 2.7400000e+05 1.8399500e+05 7.1427800e+04 1.6373000e+05\n",
            " 2.2074800e+05 1.5590900e+05 3.3085100e+05 3.6438800e+05 5.9672800e+03]\n",
            "total sales amount [0.0000000e+00 2.0000000e+03 2.0331990e+05 1.1465440e+05 1.6194240e+05\n",
            " 2.1915850e+05 5.3491640e+05 3.7492512e+05 2.2350770e+05 1.0800000e+05\n",
            " 3.7487488e+05 4.2317440e+05 1.1175955e+05 1.1162350e+05 1.1170615e+05\n",
            " 1.1142775e+05 1.1164240e+05 1.1139835e+05 2.0554160e+05 8.4000000e+04\n",
            " 5.6109360e+05 1.0127080e+05 6.8607400e+04 8.3296200e+04 1.5348730e+05\n",
            " 4.7247400e+05 1.9441990e+05 2.9814900e+05 1.4639700e+05 1.6392400e+05\n",
            " 1.6191500e+05 1.7427300e+05 4.0000000e+03 1.9667300e+05 1.5348700e+05\n",
            " 3.8454900e+05 2.0348700e+05 2.2432000e+05 1.2500000e+06 3.1841500e+05\n",
            " 2.0337400e+05 4.2313100e+05 2.0624700e+05 8.3265600e+04 3.3142500e+05\n",
            " 1.0337400e+05 1.4459200e+05 3.8467300e+05 2.0341200e+05 1.5598700e+05\n",
            " 5.0000000e+04 2.2350800e+05 5.6258900e+05 3.5507500e+05 2.9068500e+05\n",
            " 1.2000000e+04 3.0243200e+05 3.5479700e+05 1.3962400e+05 5.9095900e+05\n",
            " 3.2202400e+05 1.6387400e+05 3.8445100e+05 1.1162400e+05 1.1142800e+05\n",
            " 1.0338700e+05 4.0351200e+05 2.0313100e+05 3.8497300e+05 3.6636300e+05\n",
            " 2.2285600e+05 3.8455200e+05 1.6390000e+05 1.1141800e+05 3.8498800e+05\n",
            " 2.0306700e+05 2.2312700e+05 2.2342600e+05 3.5497300e+05 3.5496000e+05\n",
            " 4.2319200e+05 3.5499200e+05 3.5511100e+05 2.5000000e+05 3.5515700e+05\n",
            " 1.1171600e+05 1.6391800e+05 1.5890200e+05 1.9850800e+05 6.4662900e+05\n",
            " 1.7000000e+05 3.3150800e+05 3.5279700e+05 1.0984900e+06 2.7756200e+05\n",
            " 2.0358400e+05 3.3142600e+05 2.0299400e+05 5.0000000e+03 3.5508700e+05\n",
            " 1.6383600e+05 3.5343100e+05 6.2083600e+05 3.6466900e+05 3.3875700e+05\n",
            " 1.6383200e+05 1.5358400e+05 2.2328500e+05 1.0000000e+03 3.3143800e+05\n",
            " 2.2358400e+05 6.2111600e+05 3.5218500e+05 4.5951100e+05 3.8635900e+05\n",
            " 1.6383500e+05 3.7487300e+05 3.3666700e+05 6.1285400e+05 3.2160700e+05\n",
            " 4.1895100e+05 3.5333700e+05 4.0556200e+05 2.2299400e+05 3.8460400e+05\n",
            " 6.9427100e+04 4.2000000e+06 2.2283700e+05 2.0000000e+02 2.9233400e+05\n",
            " 1.6384400e+05 7.1533400e+04 3.3691900e+05 3.5331900e+05 1.6388600e+05\n",
            " 1.1643200e+05 3.8235900e+05 3.3659400e+05 2.0292200e+05 5.8061000e+03\n",
            " 1.1156400e+05 3.9366900e+05 3.8354900e+05 1.6383300e+05 1.0150700e+05\n",
            " 6.1289100e+05 1.5593600e+05 7.3533400e+04 3.8245100e+05 1.6182000e+05\n",
            " 4.3405800e+05 1.1784450e+06 2.2292200e+05 5.4922400e+04 2.2288900e+05\n",
            " 3.8441500e+05 3.8437800e+05 3.3123600e+05 2.2279700e+05 6.1079700e+05\n",
            " 3.5274700e+05 2.2301800e+05 2.2285400e+05 3.5289100e+05 3.8441700e+05\n",
            " 1.6383400e+05 2.0200000e+04 2.2277000e+05 3.8428800e+05 6.1285600e+05\n",
            " 1.6376200e+05 3.8241600e+05 7.1385100e+04 6.2067200e+05 2.7200000e+05\n",
            " 1.8399500e+05 7.1427800e+04 1.6373000e+05 2.2074800e+05 1.5590900e+05\n",
            " 3.6320000e+05 3.3085100e+05 3.6438800e+05 5.9672800e+03]\n",
            "interest category ['D' 'F' 'B' 'C' 'G' 'Official Student' 'W' 'A' 'I' 'E' 'X' 'J' 'unknown'\n",
            " 'H' 'R']\n",
            "customer source ['Online Operations' 'Channel Center' 'unknown' 'Self-employed'\n",
            " 'Teaching Center' 'Alumni Center' 'Online University' 'Media video'\n",
            " 'Data Operations' 'Data Management' 'EMC']\n",
            "source secondary classification ['Media' 'Bidding' 'SEO' 'unknown' 'Enrollment Proxy' 'Self-Media'\n",
            " 'Student Recommend' 'Past Student Referral' 'Own Data' 'Others'\n",
            " 'Referral' '400Phone' 'City Partner' 'Teacher Recommend' 'Jiatui'\n",
            " 'Teach/Research Activity' 'Zhishijianghu' 'OnlineBD' 'Online University']\n",
            "source third classification ['Jinritoutiao' 'Wechat - Pengyouquan' 'Baidu' 'Website' 'Tiktok'\n",
            " 'unknown' 'GDA TALK' 'Kuaipai' 'Xiaozhushou' 'Zhihu' 'Others'\n",
            " 'Wechat-Gongzhonghao' 'Houxuewang' 'Baidu-Xinxiliu' 'Huodongxing'\n",
            " 'Linkedin' 'Xigua' '360' 'Self-Media Paid Advertisement' 'QQ'\n",
            " 'Peixuntong' 'Xinzhandian' 'Sougou' '400Phone' 'Shenma' 'Weibo'\n",
            " '4008Phone' 'EMC' 'U2' 'Sales' 'Xiaohongshu' 'Shequn'\n",
            " 'Self-Media Paid View' 'Xiangpi' 'Jiatui' 'Chuizhi-01' 'Chuizhi - GXK']\n",
            "source fourth classification ['Form Data' 'unknown' '53 Customer Servcie' 'Phone Counsult'\n",
            " 'Voice message data' 'Wechat Consult' 'QQ Consult' 'Others'\n",
            " 'Activity Data']\n",
            "business category ['Employed' 'unknown' 'Study Abroad' 'Customize' 'Business' 'Campus'\n",
            " 'Colleges' 'Member']\n",
            "interest program ['ENPC-DBA-IMM' 'UCA-DBA' 'General DBA' 'Health DBA' 'Health MBA'\n",
            " 'ISTEC-DBA-IMM' 'Intelligent Manufacturing DBA' 'RFA' 'UM-EMBA'\n",
            " 'ISTEC-DBA' 'unknown' 'Education DBA' 'General MBA' 'ISTEC-DEM'\n",
            " 'NEOMA-DBA' 'Online Micro Lessons' 'UM-EDBA' 'UM-MHM'\n",
            " 'Study Abroad Master' 'ISTEC-DCM' 'Online MBA'\n",
            " 'Intelligent Manufacturing MBA' 'ISTEC-FDBA' 'UM-DHM' 'Culture DBA'\n",
            " 'Study Abroad Phd' 'NEOMA-DDE' 'Finance DBA'\n",
            " 'UCA-EMBA (City Partner Price)' 'UCA-EMBA' 'Study Abroad Bachelor'\n",
            " 'ISTEC-EMBA (City Partner Price)' 'NEOMA-FDBA' 'B-Proxy' 'CL-MIB'\n",
            " 'Online DBA' 'ISTEC-MBA' 'ISTEC-MBA-OL' 'Data Econ DBA' 'Business MBA'\n",
            " 'NEOMA-DAM' 'ISTEC-MBA-IMM' 'ISTEC-DBA-OL' 'ISTEC-DDT'\n",
            " 'Study Abroad - Bus' 'B-Partner' 'UCA-DBA-SZ' 'Finance MBA'\n",
            " 'Montepellier - EMBA' 'DIU-MBA HCM'\n",
            " 'UM-PHD(Study Abroad, Require pre-PHD)' 'ENPC-DHM' 'UM-PHD'\n",
            " 'PHD (Study Abroad)' 'NEOMA-DWM' 'ISTEC-EMBA (Old Price)' 'NEOMA-PHD'\n",
            " 'Online-B' 'Others' 'ENPC-DBA' 'IUKL-PBA (Business Management)'\n",
            " 'NEOMA-DBA-SZ' 'IUKL-PCO （Communication）' 'ENPC-DIMM'\n",
            " 'Asset Management DBA' 'NEOMA-DDM' 'Data Science DBA'\n",
            " 'Wealth Management DBA' 'CGFT' 'Nice DBA - Zhongxu' 'UM-(Master & Phd)'\n",
            " 'ESC-BBA-OL' 'UCA-DBA-HK' 'Data Tranformation DBA' 'IS-FMBA'\n",
            " 'Data Marketing DBA' 'IUKL-PED （Education）' 'Nice MBA' 'ISTEC-FMBA'\n",
            " 'BIFF']\n",
            "information date ['2021-09-15' '2021-10-03' '2021-04-13' '2021-08-16' '2021-09-24'\n",
            " '2021-05-28' '2021-09-03' '2021-10-09' '2021-09-26' '2021-09-18'\n",
            " '2021-01-06' '2021-01-04' '2021-01-29' '2021-03-09' '2021-06-02'\n",
            " '2021-06-29' '2021-08-30' '2021-10-08' '2021-01-07' '2021-03-18'\n",
            " '2021-01-26' '2021-04-02' '2021-09-28' 'unknown' '2021-03-12'\n",
            " '2021-09-02' '2021-03-04' '2021-06-01' '2021-09-08' '2021-01-28'\n",
            " '2021-04-29' '2021-09-05' '2021-03-15' '2021-07-15' '2021-04-30'\n",
            " '2021-07-30' '2021-05-07' '2021-03-23' '2021-06-18' '2021-01-14'\n",
            " '2021-09-10' '2021-09-16' '2021-02-24' '2021-01-08' '2021-01-11'\n",
            " '2021-09-07' '2021-06-08' '2021-09-29' '2021-03-17' '2021-03-25'\n",
            " '2021-08-24' '2021-03-08' '2021-09-14' '2021-04-27' '2021-08-11'\n",
            " '2021-08-10' '2021-09-13' '2021-04-01' '2021-04-23' '2021-08-18'\n",
            " '2021-07-25' '2021-06-17' '2021-03-16' '2021-08-09' '2021-01-25'\n",
            " '2021-01-13' '2021-09-23' '2021-01-20' '2021-04-12' '2021-08-19'\n",
            " '2021-08-21' '2021-07-09' '2021-01-19' '2021-07-28' '2021-01-15'\n",
            " '2021-08-26' '2021-09-30' '2021-08-13' '2021-08-04' '2021-02-04'\n",
            " '2021-09-22' '2021-09-17' '2021-02-22' '2021-10-07' '2021-03-19'\n",
            " '2021-06-10' '2021-01-22' '2021-01-21' '2021-02-26' '2021-04-15'\n",
            " '2021-03-29' '2021-09-09' '2021-04-20' '2021-07-27' '2021-09-27'\n",
            " '2021-06-16' '2021-07-02' '2021-10-02' '2021-02-02' '2021-08-05'\n",
            " '2021-07-20' '2021-08-06' '2021-02-01' '2021-03-26' '2021-09-25'\n",
            " '2021-02-03' '2021-03-03' '2021-03-11' '2021-01-27' '2021-03-28'\n",
            " '2021-07-03' '2021-06-09' '2021-06-25' '2021-04-07' '2021-06-13'\n",
            " '2021-04-28' '2021-03-05' '2021-02-05' '2021-07-08' '2021-04-06'\n",
            " '2021-03-10' '2021-09-01' '2021-08-23' '2021-03-30' '2021-08-12'\n",
            " '2021-05-14' '2021-08-25' '2021-02-20' '2021-01-30' '2021-08-27'\n",
            " '2021-02-07' '9/27/2021' '7/21/2021' '10/13/2021' '9/2/2021' '10/15/2021'\n",
            " '10/12/2021' '8/19/2021' '3/9/2021' '10/5/2021' '9/7/2021' '9/16/2021'\n",
            " '3/8/2021' '3/17/2021' '6/10/2021' '8/28/2021' '2/1/2021' '2/2/2021'\n",
            " '3/19/2021' '2/4/2021' '3/2/2021' '5/28/2021' '4/1/2021' '8/6/2021'\n",
            " '9/30/2021' '10/9/2021' '9/29/2021' '10/10/2021' '2/3/2021' '4/13/2021'\n",
            " '3/23/2021' '3/4/2021' '10/11/2021' '6/22/2021' '9/8/2021' '4/27/2021'\n",
            " '4/30/2021' '8/5/2021' '8/10/2021' '8/27/2021' '3/18/2021' '2/22/2021'\n",
            " '4/22/2021' '9/24/2021' '10/14/2021' '9/26/2021' '5/25/2021' '9/23/2021'\n",
            " '3/11/2021' '3/5/2021' '3/21/2021' '3/3/2021' '2/10/2021' '9/5/2021'\n",
            " '2/20/2021' '3/24/2021' '8/26/2021' '2/8/2021' '9/28/2021' '10/6/2021'\n",
            " '6/24/2021' '8/25/2021' '3/16/2021' '9/3/2021' '8/24/2021' '9/15/2021'\n",
            " '9/10/2021' '2/7/2021' '3/22/2021' '2/5/2021' '8/20/2021' '9/14/2021'\n",
            " '3/10/2021' '2/19/2021' '8/4/2021' '9/1/2021' '6/18/2021' '3/26/2021'\n",
            " '3/29/2021' '4/8/2021' '9/17/2021' '2/24/2021' '7/23/2021' '2/9/2021'\n",
            " '2/23/2021' '8/12/2021' '3/28/2021' '4/19/2021' '9/18/2021' '5/6/2021'\n",
            " '6/15/2021' '4/26/2021' '3/12/2021' '4/6/2021' '7/19/2021' '2/25/2021'\n",
            " '3/31/2021' '10/7/2021' '5/7/2021' '4/14/2021' '5/14/2021' '10/2/2021'\n",
            " '2/26/2021' '5/24/2021' '9/13/2021' '3/1/2021' '8/31/2021' '4/16/2021'\n",
            " '6/17/2021' '9/9/2021' '3/7/2021' '4/20/2021' '7/25/2021' '6/16/2021'\n",
            " '7/1/2021' '7/28/2021' '7/13/2021' '4/2/2021' '6/2/2021' '5/10/2021'\n",
            " '4/9/2021' '7/20/2021' '3/25/2021' '9/6/2021' '6/27/2021' '8/23/2021'\n",
            " '8/3/2021' '5/15/2021' '8/21/2021' '4/28/2021' '8/18/2021' '5/8/2021'\n",
            " '5/26/2021' '10/4/2021' '3/15/2021' '4/12/2021' '8/30/2021' '9/11/2021'\n",
            " '6/23/2021' '5/18/2021' '4/7/2021' '7/3/2021' '7/10/2021' '6/4/2021'\n",
            " '5/21/2021' '10/3/2021' '6/28/2021' '8/29/2021' '4/15/2021' '6/30/2021'\n",
            " '10/1/2021' '7/27/2021' '5/13/2021' '9/19/2021' '7/22/2021' '8/11/2021'\n",
            " '8/13/2021' '3/14/2021' '10/8/2021' '6/8/2021' '6/7/2021' '4/23/2021'\n",
            " '7/16/2021' '5/12/2021' '6/1/2021' '8/17/2021' '4/11/2021' '7/7/2021'\n",
            " '5/11/2021' '5/23/2021' '4/25/2021' '9/22/2021' '5/31/2021' '8/15/2021'\n",
            " '5/17/2021' '3/30/2021' '7/2/2021' '6/11/2021' '6/14/2021' '9/4/2021'\n",
            " '6/3/2021' '6/21/2021' '7/30/2021' '7/12/2021' '4/21/2021' '7/17/2021'\n",
            " '4/29/2021' '8/7/2021' '5/20/2021' '4/17/2021' '7/5/2021' '9/25/2021'\n",
            " '9/21/2021' '8/22/2021' '8/1/2021' '7/8/2021' '6/19/2021' '4/24/2021'\n",
            " '6/9/2021' '5/27/2021' '7/4/2021' '8/16/2021' '6/25/2021' '8/2/2021'\n",
            " '7/15/2021' '8/9/2021' '5/30/2021' '5/1/2021' '6/13/2021' '6/29/2021'\n",
            " '5/19/2021' '7/6/2021' '5/9/2021' '7/24/2021' '6/6/2021' '5/16/2021'\n",
            " '7/9/2021' '7/18/2021' '8/8/2021' '7/26/2021' '5/29/2021' '6/20/2021'\n",
            " '7/14/2021' '6/12/2021' '9/12/2021' '7/29/2021' '7/11/2021' '8/14/2021'\n",
            " '7/31/2021' '9/20/2021']\n",
            "customer source star rating ['***' '**' '*' 'unknown' '****']\n",
            "dududu? (yes/no) [False  True]\n",
            "source code ['C' 'B' 'XXX' 'I' 'T' 'A' 'O' 'M' 'E' 'D']\n",
            "customer update status ['1' 'unknown' '2' '4' '5' '9' '8' '7' '6' '3']\n",
            "percentage [0.05 0.   0.2  0.4  0.5  0.95 0.7  0.6  1.   0.35 0.8 ]\n",
            "program sales total ['588000' '268000' '300000' '158000' '198000' '258000' 'unknown' '156000'\n",
            " '178000' '238000' '100000' '420000' '328000' '15000' '358000' '480000'\n",
            " '136000' '98000' '888000' '78000' '58000' '10000' '558000' '128000'\n",
            " '\\t300000' '\\t158000' '\\t258000' '\\t238000' '\\t100000' '\\t78000'\n",
            " '\\t156000' '\\t358000' '\\t128000' '\\t268000' '\\t198000' '\\t328000'\n",
            " '\\t178000' '\\t248000' '\\t50000' '\\t58000' '\\t588000' '\\t480000' '\\t98000'\n",
            " '\\t420000' '\\t48000' '\\t200000' '\\t888000' '\\t15000' '\\t500000'\n",
            " '\\t398000' '\\t165000' '\\t155000' '\\t558000' '\\t880000' '\\t144000'\n",
            " '\\t20000' '\\t80000' '\\t136000' '\\t188000']\n",
            "expected sales ['29400.00' '0' '15000.00' '31600.00' '7900.00' '9900.00' '12900.00'\n",
            " 'unknown' '63200.00' '8900.00' '11900.00' '7800.00' '117600' '143200.00'\n",
            " '5000' '16400.00' '235200.00' '13400.00' '71600.00' '179000.00'\n",
            " '44400.00' '17900.00' '169100.00' '51600.00' '47600.00' '27900.00'\n",
            " '6400.00' '29000.00' '111600' '60000.00' '24000.00' '15000' '7900'\n",
            " '12900' '51600' '47600' '11900' '31600' '60000' '3900' '71600' '6400'\n",
            " '53600' '65600' '8900' '173600' '7800' '39600' '16400' '2500' '214800'\n",
            " '17900' '2900' '24000' '21000' '2400' '29400' '198000' '120000' '40000'\n",
            " '10000' '31200' '44400' '268000' '179000' '84000' '358000' '131200'\n",
            " '35600' '9900' '96000' '95200' '13400' '286400' '79600' '160800' '20000'\n",
            " '165000' '750' '63200' '164000' '107200' '106800' '62000' '27900' '62400'\n",
            " '156000' '44000' '223200' '103200' '49600' '118800' '7200' '235200'\n",
            " '99000' '196800' '11600' '69300' '94800' '39000' '78000' '82500' '79000'\n",
            " '93600' '62300' '229600' '25600' '105000' '46800' '176000' '3000'\n",
            " '238000' '8250' '192000' '352800' '6000' '89000' '1000' '9600' '143200'\n",
            " '12400' '7750' '148800' '6800' '4000' '9400' '28800' '15600' '19600'\n",
            " '99200']\n",
            "number of calls ['3' '1' '0' '2' '5' '8' '4' '22' '6' '7' '11' '19' '9' '14' '18' '12'\n",
            " '17' '16' '15' '10' '13' '20' '29' '27' '26' 'unknown' '34' '23' '21'\n",
            " '24' '25' '36' '43' '71' '148' '41' '33' '37' '104' '47' '58' '32' '28']\n",
            "repeated? (yes/no) ['unknown' 'Yes']\n",
            "repeated date ['unknown' '2021-01-06' '2021-02-03' '2021-01-01' '2021-02-02'\n",
            " '2021-01-26' '2021-05-11' '2021-02-01' '2021-01-08' '2021-02-18'\n",
            " '2021-03-01' '2021-06-10' '2021-07-02' '2021-09-03' '2021-01-14'\n",
            " '2021-01-17' '2021-01-16' '2021-03-04' '2021-01-21' '2021-01-20'\n",
            " '2021-01-22' '2021-09-16' '2021-01-27' '2021-01-25' '2021-02-22'\n",
            " '2021-02-24' '2021-03-20' '2021-07-19' '2021-01-28' '2021-03-09'\n",
            " '2021-01-29' '2021-01-30' '2/1/2021' '3/13/2021' '7/1/2021' '3/3/2021'\n",
            " '5/22/2021' '9/3/2021' '2/5/2021' '9/22/2021' '2/11/2021' '7/26/2021'\n",
            " '2/15/2021' '3/11/2021' '2/7/2021' '4/19/2021' '3/10/2021' '9/16/2021'\n",
            " '8/18/2021' '10/11/2021' '2/22/2021' '2/26/2021' '4/15/2021' '7/9/2021'\n",
            " '6/26/2021' '4/8/2021' '7/21/2021' '3/14/2021' '3/9/2021' '3/18/2021'\n",
            " '8/26/2021' '5/6/2021' '6/17/2021' '4/13/2021' '3/25/2021' '3/24/2021'\n",
            " '5/11/2021' '3/26/2021' '5/17/2021' '5/1/2021' '4/5/2021' '4/10/2021'\n",
            " '8/14/2021' '6/28/2021' '6/23/2021' '4/28/2021' '8/13/2021' '5/25/2021'\n",
            " '4/11/2021' '4/12/2021' '4/20/2021' '4/14/2021' '5/5/2021' '7/13/2021'\n",
            " '4/26/2021' '4/22/2021' '4/25/2021' '5/13/2021' '4/27/2021' '7/5/2021'\n",
            " '6/14/2021' '5/7/2021' '5/8/2021' '4/30/2021' '5/12/2021' '6/2/2021'\n",
            " '5/18/2021' '7/31/2021' '5/3/2021' '5/9/2021' '5/10/2021' '6/1/2021'\n",
            " '7/3/2021' '7/14/2021' '7/12/2021' '5/26/2021' '5/16/2021' '5/24/2021'\n",
            " '5/23/2021' '5/30/2021' '8/2/2021' '5/31/2021' '5/28/2021' '7/7/2021'\n",
            " '5/29/2021' '6/15/2021' '6/6/2021' '6/5/2021' '6/13/2021' '6/3/2021'\n",
            " '6/21/2021' '7/4/2021' '6/10/2021' '7/2/2021' '6/30/2021' '6/12/2021'\n",
            " '6/9/2021' '6/8/2021' '7/27/2020' '6/18/2021' '6/25/2021' '7/6/2021'\n",
            " '6/24/2021' '7/15/2021' '7/11/2021' '6/27/2021' '6/29/2021' '7/19/2021'\n",
            " '8/1/2021' '7/27/2021' '7/20/2021' '7/23/2021' '8/5/2021' '7/25/2021'\n",
            " '8/3/2021' '8/4/2021']\n",
            "most recent publish date ['2021-09-15 16:51' '2021-10-03 16:42' 'unknown' ... '10/15/2021 14:47'\n",
            " '10/15/2021 13:41' '10/15/2021 13:28']\n",
            "success [False  True]\n"
          ]
        }
      ],
      "source": [
        "for column in df.select_dtypes(exclude=['int64']):\n",
        "    print(column, df[column].unique())"
      ]
    },
    {
      "cell_type": "code",
      "execution_count": null,
      "metadata": {
        "id": "cNrkas2OWLpt",
        "outputId": "723b3f4c-07df-4a32-cfac-81b88b86e804",
        "colab": {
          "base_uri": "https://localhost:8080/"
        }
      },
      "outputs": [
        {
          "output_type": "stream",
          "name": "stdout",
          "text": [
            "Sales columns ['number of signed contract', 'amount received', 'total contract amount', 'account receivable', 'non-collectibles', 'amount to be collected', 'actual amount collected', 'effective sales amount', 'total sales amount', 'finished customer']\n"
          ]
        }
      ],
      "source": [
        "#find numerical columns & categorical columns\n",
        "sales_cols = [column for column in df.select_dtypes(include='number')][:-2]\n",
        "print(\"Sales columns\", sales_cols)\n"
      ]
    },
    {
      "cell_type": "code",
      "execution_count": null,
      "metadata": {
        "id": "Q1Pam2_dWLpu",
        "outputId": "db3b5eb1-9da1-42ab-d6e1-47540c516c11",
        "colab": {
          "base_uri": "https://localhost:8080/"
        }
      },
      "outputs": [
        {
          "output_type": "stream",
          "name": "stdout",
          "text": [
            "Datetime columns Index(['most recent activity date', 'claim date', 'recent change date',\n",
            "       'information date', 'repeated date', 'most recent publish date'],\n",
            "      dtype='object')\n"
          ]
        }
      ],
      "source": [
        "#Find datetime columns in data\n",
        "date_cols = df.rename(columns=str.lower).filter(regex=(\".*(date)+.*\")).drop(['customer update status'], axis=1).columns\n",
        "print(\"Datetime columns\", date_cols)"
      ]
    },
    {
      "cell_type": "code",
      "execution_count": null,
      "metadata": {
        "id": "mJalsfrxWLpv",
        "outputId": "4c315b7e-037b-4eaf-ce20-6646e8036f52",
        "colab": {
          "base_uri": "https://localhost:8080/"
        }
      },
      "outputs": [
        {
          "output_type": "execute_result",
          "data": {
            "text/plain": [
              "['customer type',\n",
              " 'sales representative',\n",
              " 'province',\n",
              " 'city',\n",
              " 'most recent sales representative',\n",
              " 'customer pool',\n",
              " 'data creator',\n",
              " 'recent editor',\n",
              " 'status',\n",
              " 'belonging department',\n",
              " 'business registration',\n",
              " 'do-not-disturb',\n",
              " 'customer rating',\n",
              " 'interest category',\n",
              " 'customer source',\n",
              " 'source secondary classification',\n",
              " 'source third classification',\n",
              " 'source fourth classification',\n",
              " 'business category',\n",
              " 'interest program',\n",
              " 'customer source star rating',\n",
              " 'dududu? (yes/no)',\n",
              " 'source code',\n",
              " 'customer update status',\n",
              " 'percentage',\n",
              " 'program sales total',\n",
              " 'expected sales',\n",
              " 'number of calls',\n",
              " 'repeated? (yes/no)',\n",
              " 'success']"
            ]
          },
          "metadata": {},
          "execution_count": 14
        }
      ],
      "source": [
        "date_sales_cols = list(sales_cols)+list(date_cols)\n",
        "cat_cols = [column for column in df.drop(columns = date_sales_cols ,axis=1)]\n",
        "cat_cols"
      ]
    },
    {
      "cell_type": "code",
      "execution_count": null,
      "metadata": {
        "id": "L9ABZPQbWLpv",
        "outputId": "30a20cea-740d-4257-8fa7-315db4f564b1",
        "colab": {
          "base_uri": "https://localhost:8080/"
        }
      },
      "outputs": [
        {
          "output_type": "execute_result",
          "data": {
            "text/plain": [
              "0    588000\n",
              "1    588000\n",
              "2    268000\n",
              "3    588000\n",
              "4    300000\n",
              "Name: program sales total, dtype: int64"
            ]
          },
          "metadata": {},
          "execution_count": 15
        }
      ],
      "source": [
        "#Change program sales to numeric\n",
        "df['program sales total'] = df['program sales total'].map(lambda x: x.lstrip('\\t')).replace('unknown',0).astype(int)\n",
        "df['program sales total'].head()"
      ]
    },
    {
      "cell_type": "code",
      "execution_count": null,
      "metadata": {
        "id": "nipPt9VZWLpw",
        "outputId": "f1cf45c3-0525-4d89-a16f-8ddff7504701",
        "colab": {
          "base_uri": "https://localhost:8080/"
        }
      },
      "outputs": [
        {
          "output_type": "execute_result",
          "data": {
            "text/plain": [
              "array(['D', 'F', 'B', 'C', 'G', 'Official Student', 'W', 'A', 'I', 'E',\n",
              "       'X', 'J', 'unknown', 'H', 'R'], dtype=object)"
            ]
          },
          "metadata": {},
          "execution_count": 16
        }
      ],
      "source": [
        "df['interest category'].unique()"
      ]
    },
    {
      "cell_type": "code",
      "execution_count": null,
      "metadata": {
        "id": "9vWAdX3cWLpw"
      },
      "outputs": [],
      "source": [
        "#F-paid interview fee, A - 1/week, B - 1/2 weeks, C - 1/3 weeks, D - 1/2 months \n",
        "#E - EMC acitivity interest/No particular interest, #G - 未接, X - 错号, H - 空号, \n",
        "#Official Student, #W - 有兴趣没对应项目\n",
        "#Official Student - 100, F - 80, A - 60, B - 50, C - 40, D -25, W - 15, E,G - 10, X,H,Unkown - 0, \n",
        "num_int = df['interest category'].replace({'J':'I','R':'I','Official Student':100, 'F':80, 'A':60, 'B':50, 'C':40, 'D':25,\n",
        "                                'W':15, 'E':10, 'G':10, 'W':10, 'I':10, 'X':0, 'H':0, 'unknown':0}).replace('I',10)"
      ]
    },
    {
      "cell_type": "code",
      "execution_count": null,
      "metadata": {
        "id": "A5ifNcylWLpx"
      },
      "outputs": [],
      "source": [
        "r = np.corrcoef(df['customer rating'], num_int)\n",
        "r\n",
        "#Highly correlated, drop interest category\n",
        "cat_cols.remove('interest category')"
      ]
    },
    {
      "cell_type": "code",
      "execution_count": null,
      "metadata": {
        "id": "ZI0LOazoWLpy",
        "outputId": "ac2cc04c-0684-4427-cdc6-b60731678715",
        "colab": {
          "base_uri": "https://localhost:8080/"
        }
      },
      "outputs": [
        {
          "output_type": "execute_result",
          "data": {
            "text/plain": [
              "['customer type',\n",
              " 'sales representative',\n",
              " 'province',\n",
              " 'city',\n",
              " 'most recent sales representative',\n",
              " 'customer pool',\n",
              " 'data creator',\n",
              " 'recent editor',\n",
              " 'status',\n",
              " 'belonging department',\n",
              " 'business registration',\n",
              " 'do-not-disturb',\n",
              " 'customer rating',\n",
              " 'customer source',\n",
              " 'source secondary classification',\n",
              " 'source third classification',\n",
              " 'source fourth classification',\n",
              " 'business category',\n",
              " 'interest program',\n",
              " 'customer source star rating',\n",
              " 'dududu? (yes/no)',\n",
              " 'source code',\n",
              " 'customer update status',\n",
              " 'program sales total',\n",
              " 'expected sales',\n",
              " 'number of calls',\n",
              " 'repeated? (yes/no)']"
            ]
          },
          "metadata": {},
          "execution_count": 19
        }
      ],
      "source": [
        "cat_cols = [cols for cols in cat_cols if cols != 'interest category' and cols != 'percentage' and cols != 'success']\n",
        "cat_cols"
      ]
    },
    {
      "cell_type": "code",
      "execution_count": null,
      "metadata": {
        "id": "AnSE_9_eWLpz"
      },
      "outputs": [],
      "source": [
        "df['number of calls'] = df['number of calls'].replace('unknown',0).astype(int)\n",
        "df['dududu? (yes/no)'] = df['dududu? (yes/no)'].astype('int')\n",
        "df['repeated? (yes/no)'] = df['repeated? (yes/no)'].replace({'Yes':1,'unknown':0})"
      ]
    },
    {
      "cell_type": "code",
      "execution_count": null,
      "metadata": {
        "id": "40OrRmSWWLp3",
        "outputId": "782052fb-8463-4101-ab8b-26620edb63f7",
        "colab": {
          "base_uri": "https://localhost:8080/"
        }
      },
      "outputs": [
        {
          "output_type": "execute_result",
          "data": {
            "text/plain": [
              "Index(['General DBA', 'Intelligent Manufacturing DBA', 'Health DBA', 'B-Proxy',\n",
              "       'General MBA', 'Health MBA', 'Online Micro Lessons', 'unknown',\n",
              "       'Education DBA', 'Finance DBA', 'UM-EMBA', 'Data Tranformation DBA',\n",
              "       'Data Econ DBA', 'UM-DHM', 'Study Abroad Phd', 'Others', 'UM-EDBA',\n",
              "       'ISTEC-EMBA (City Partner Price)', 'Asset Management DBA', 'ISTEC-DBA',\n",
              "       'UCA-DBA', 'ISTEC-DBA-IMM', 'ISTEC-MBA', 'ISTEC-DEM', 'UM-MHM',\n",
              "       'Intelligent Manufacturing MBA', 'ENPC-DBA-IMM', 'Data Science DBA',\n",
              "       'Montepellier - EMBA', 'NEOMA-DBA', 'Study Abroad - Bus',\n",
              "       'ISTEC-MBA-IMM', 'NEOMA-DDE', 'DIU-MBA HCM', 'ISTEC-MBA-OL',\n",
              "       'ISTEC-DDT', 'ISTEC-FDBA', 'NEOMA-DAM', 'ENPC-DIMM', 'Culture DBA',\n",
              "       'ENPC-DHM', 'Study Abroad Master', 'Wealth Management DBA',\n",
              "       'ISTEC-DBA-OL', 'B-Partner', 'Data Marketing DBA', 'Online MBA',\n",
              "       'UM-PHD(Study Abroad, Require pre-PHD)', 'UM-PHD', 'ESC-BBA-OL',\n",
              "       'Online DBA', 'NEOMA-DDM', 'NEOMA-FDBA', 'Finance MBA', 'RFA',\n",
              "       'IUKL-PBA (Business Management)', 'CGFT', 'IS-FMBA', 'ISTEC-DCM',\n",
              "       'ISTEC-EMBA (Old Price)', 'UCA-DBA-HK', 'CL-MIB', 'Nice DBA - Zhongxu',\n",
              "       'UCA-EMBA', 'Business MBA', 'UM-(Master & Phd)', 'PHD (Study Abroad)',\n",
              "       'BIFF', 'ENPC-DBA', 'NEOMA-PHD', 'ISTEC-FMBA',\n",
              "       'UCA-EMBA (City Partner Price)', 'UCA-DBA-SZ', 'Study Abroad Bachelor',\n",
              "       'IUKL-PED （Education）', 'NEOMA-DBA-SZ', 'Online-B', 'NEOMA-DWM',\n",
              "       'Nice MBA', 'IUKL-PCO （Communication）'],\n",
              "      dtype='object', name='interest program')"
            ]
          },
          "metadata": {},
          "execution_count": 21
        }
      ],
      "source": [
        "X = df[cat_cols]\n",
        "y = df['success']\n",
        "\n",
        "cnt_int_prog = pd.DataFrame(X.groupby(['interest program']).count().sort_values(by ='number of calls', ascending = False)['customer type'])\n",
        "cnt_int_prog.index"
      ]
    },
    {
      "cell_type": "code",
      "execution_count": null,
      "metadata": {
        "id": "w_lDqiJKWLp5",
        "outputId": "a6116d80-4b71-4fa1-8e9a-a2120fdf7195",
        "colab": {
          "base_uri": "https://localhost:8080/"
        }
      },
      "outputs": [
        {
          "output_type": "stream",
          "name": "stderr",
          "text": [
            "/usr/local/lib/python3.7/dist-packages/ipykernel_launcher.py:29: SettingWithCopyWarning: \n",
            "A value is trying to be set on a copy of a slice from a DataFrame.\n",
            "Try using .loc[row_indexer,col_indexer] = value instead\n",
            "\n",
            "See the caveats in the documentation: https://pandas.pydata.org/pandas-docs/stable/user_guide/indexing.html#returning-a-view-versus-a-copy\n"
          ]
        }
      ],
      "source": [
        "#generalize program by degree\n",
        "def generalizeprogram(column):\n",
        "    for i in range(len(column)):\n",
        "        if 'FDBA' in column[i]:\n",
        "            column[i] = 'FDBA'\n",
        "        elif 'DBA' in column[i]:\n",
        "            column[i] = 'DBA'\n",
        "        elif 'FMBA' in column[i]:\n",
        "            column[i] = 'FMBA'\n",
        "        elif 'EMBA' in column[i]:\n",
        "            column[i] = 'EMBA'\n",
        "        elif 'MBA' in column[i]:\n",
        "            column[i] = 'MBA'\n",
        "        elif 'Online' in column[i]:\n",
        "            column[i] = 'Online'\n",
        "        elif 'IUKL' in column[i]:\n",
        "            column[i] = 'IUKL'\n",
        "        elif 'Study Abroad' in column[i]:\n",
        "            column[i] = 'Study Abroad'\n",
        "        elif 'B-' in column[i]:\n",
        "            column[i] = 'B'\n",
        "        elif 'NEOMA' in column[i]:\n",
        "            column[i] = 'NEOMA'\n",
        "        elif 'unknown' in column[i]:\n",
        "            column[i] = 'unknown'\n",
        "        else:\n",
        "            column[i] = 'Others'\n",
        "\n",
        "X['interest program'] = generalizeprogram(list(X['interest program']))"
      ]
    },
    {
      "cell_type": "code",
      "execution_count": null,
      "metadata": {
        "id": "SYiznXuKWLp5"
      },
      "outputs": [],
      "source": [
        "# Train Test split\n",
        "from sklearn.model_selection import train_test_split\n",
        "from sklearn.metrics import classification_report\n",
        "from sklearn.metrics import confusion_matrix\n",
        "from sklearn.metrics import accuracy_score\n",
        "from sklearn import metrics\n",
        "\n",
        "X_dum = pd.get_dummies(X)\n",
        "X_train, X_test, y_train, y_test = train_test_split(X_dum, y, test_size=0.3, random_state=1)"
      ]
    },
    {
      "cell_type": "markdown",
      "metadata": {
        "id": "GJeOX5AAWLp6"
      },
      "source": [
        "Model Selection"
      ]
    },
    {
      "cell_type": "code",
      "execution_count": null,
      "metadata": {
        "id": "DtpZKrasWLp-",
        "outputId": "b2d3aae0-d0c2-48b5-8373-4229d98efd06",
        "colab": {
          "base_uri": "https://localhost:8080/"
        }
      },
      "outputs": [
        {
          "output_type": "stream",
          "name": "stdout",
          "text": [
            "Train accuracy:  0.9705921139390743\n",
            "Test accuracy:  0.968\n",
            "              precision    recall  f1-score   support\n",
            "\n",
            "       False       0.98      0.99      0.98      3147\n",
            "        True       0.49      0.29      0.37       103\n",
            "\n",
            "    accuracy                           0.97      3250\n",
            "   macro avg       0.73      0.64      0.67      3250\n",
            "weighted avg       0.96      0.97      0.96      3250\n",
            "\n"
          ]
        }
      ],
      "source": [
        "from sklearn.linear_model import LogisticRegression\n",
        "model = LogisticRegression()\n",
        "model.fit(X_train, y_train)\n",
        "pred = model.predict(X_test)\n",
        "print(\"Train accuracy: \", model.score(X_train,y_train))\n",
        "print(\"Test accuracy: \", model.score(X_test,y_test))\n",
        "print(classification_report(y_test,pred))"
      ]
    },
    {
      "cell_type": "code",
      "execution_count": null,
      "metadata": {
        "id": "HQqFPWlCWLp_",
        "outputId": "3038df45-c451-4c42-c1d9-838ff0e479b0",
        "colab": {
          "base_uri": "https://localhost:8080/"
        }
      },
      "outputs": [
        {
          "output_type": "execute_result",
          "data": {
            "text/plain": [
              "0.9950769230769231"
            ]
          },
          "metadata": {},
          "execution_count": 60
        }
      ],
      "source": [
        "# The Decision tree Classifier\n",
        "from sklearn.tree import DecisionTreeClassifier \n",
        "# Create Decision Tree classifer object\n",
        "dtc = DecisionTreeClassifier()\n",
        "# Train Decision Tree Classifer\n",
        "dtc.fit(X_train, y_train)\n",
        "#Predict the response for test dataset\n",
        "y_pred = dtc.predict(X_test)\n",
        "# model Evaluation\n",
        "acc_dtc = accuracy_score(y_test, y_pred)\n",
        "acc_dtc"
      ]
    },
    {
      "cell_type": "code",
      "source": [
        "print(classification_report(y_test, y_pred))"
      ],
      "metadata": {
        "colab": {
          "base_uri": "https://localhost:8080/"
        },
        "id": "Ol3MkVc-Bx2s",
        "outputId": "3608fcb9-d6f8-4e65-b079-b48f2c4e6e06"
      },
      "execution_count": null,
      "outputs": [
        {
          "output_type": "stream",
          "name": "stdout",
          "text": [
            "              precision    recall  f1-score   support\n",
            "\n",
            "       False       1.00      1.00      1.00      3147\n",
            "        True       0.91      0.94      0.92       103\n",
            "\n",
            "    accuracy                           1.00      3250\n",
            "   macro avg       0.95      0.97      0.96      3250\n",
            "weighted avg       1.00      1.00      1.00      3250\n",
            "\n"
          ]
        }
      ]
    },
    {
      "cell_type": "code",
      "source": [
        "from sklearn.metrics import recall_score"
      ],
      "metadata": {
        "id": "UqFGlwL3B77c"
      },
      "execution_count": null,
      "outputs": []
    },
    {
      "cell_type": "code",
      "source": [
        "tpr_dtc = recall_score(y_test, y_pred)\n",
        "tpr_dtc"
      ],
      "metadata": {
        "colab": {
          "base_uri": "https://localhost:8080/"
        },
        "id": "dfxliS_-B4rX",
        "outputId": "675af7c5-744a-4d0a-9238-23046cb5089a"
      },
      "execution_count": null,
      "outputs": [
        {
          "output_type": "execute_result",
          "data": {
            "text/plain": [
              "0.941747572815534"
            ]
          },
          "metadata": {},
          "execution_count": 62
        }
      ]
    },
    {
      "cell_type": "code",
      "source": [
        "from sklearn.tree import DecisionTreeRegressor\n",
        "# build model\n",
        "dtr = DecisionTreeRegressor()\n",
        "# fit classifiers\n",
        "dtr.fit(X_train, y_train)\n",
        "# Prediction\n",
        "y_pred = dtr.predict(X_test)\n",
        "\n",
        "# model Evaluation\n",
        "acc_dtr = accuracy_score(y_test, y_pred)\n",
        "acc_dtr"
      ],
      "metadata": {
        "colab": {
          "base_uri": "https://localhost:8080/"
        },
        "id": "fc0l38GrCgQ2",
        "outputId": "2f12d7c6-6af4-43e4-a38c-6b6641979cce"
      },
      "execution_count": null,
      "outputs": [
        {
          "output_type": "execute_result",
          "data": {
            "text/plain": [
              "0.9950769230769231"
            ]
          },
          "metadata": {},
          "execution_count": 29
        }
      ]
    },
    {
      "cell_type": "code",
      "source": [
        "print(classification_report(y_test, y_pred))"
      ],
      "metadata": {
        "colab": {
          "base_uri": "https://localhost:8080/"
        },
        "id": "pcPaFSJeCuCA",
        "outputId": "b660cb44-edf9-4ee1-e6d0-8b3b53d44257"
      },
      "execution_count": null,
      "outputs": [
        {
          "output_type": "stream",
          "name": "stdout",
          "text": [
            "              precision    recall  f1-score   support\n",
            "\n",
            "       False       1.00      1.00      1.00      3147\n",
            "        True       0.91      0.93      0.92       103\n",
            "\n",
            "    accuracy                           1.00      3250\n",
            "   macro avg       0.96      0.96      0.96      3250\n",
            "weighted avg       1.00      1.00      1.00      3250\n",
            "\n"
          ]
        }
      ]
    },
    {
      "cell_type": "code",
      "source": [
        "tpr_dtr = recall_score(y_test, y_pred)\n",
        "tpr_dtr"
      ],
      "metadata": {
        "colab": {
          "base_uri": "https://localhost:8080/"
        },
        "id": "x22KzLAFDj05",
        "outputId": "082713d7-1d7f-44e4-fd7c-015c61b159ec"
      },
      "execution_count": null,
      "outputs": [
        {
          "output_type": "execute_result",
          "data": {
            "text/plain": [
              "0.9320388349514563"
            ]
          },
          "metadata": {},
          "execution_count": 31
        }
      ]
    },
    {
      "cell_type": "code",
      "execution_count": null,
      "metadata": {
        "id": "6zr4kim_WLqA",
        "colab": {
          "base_uri": "https://localhost:8080/"
        },
        "outputId": "85af0b57-549b-4d4b-cbc7-71bb8f05e4fb"
      },
      "outputs": [
        {
          "output_type": "execute_result",
          "data": {
            "text/plain": [
              "0.9876923076923076"
            ]
          },
          "metadata": {},
          "execution_count": 32
        }
      ],
      "source": [
        "# The KNN Classifier\n",
        "from sklearn.neighbors import KNeighborsClassifier\n",
        "# build model\n",
        "knn_model = KNeighborsClassifier()\n",
        "# fit classifiers\n",
        "knn_model.fit(X_train, y_train)\n",
        "# Prediction\n",
        "y_pred = knn_model.predict(X_test)\n",
        "\n",
        "# model Evaluation\n",
        "acc_knn = accuracy_score(y_test, y_pred)\n",
        "acc_knn"
      ]
    },
    {
      "cell_type": "code",
      "source": [
        "tpr_knn = recall_score(y_test, y_pred)\n",
        "tpr_knn"
      ],
      "metadata": {
        "id": "GGXbKhcpZD2u",
        "colab": {
          "base_uri": "https://localhost:8080/"
        },
        "outputId": "a9d86d36-86f2-42b3-9531-6cb3a4937e6e"
      },
      "execution_count": null,
      "outputs": [
        {
          "output_type": "execute_result",
          "data": {
            "text/plain": [
              "0.7378640776699029"
            ]
          },
          "metadata": {},
          "execution_count": 33
        }
      ]
    },
    {
      "cell_type": "code",
      "source": [
        "print(classification_report(y_test,y_pred))"
      ],
      "metadata": {
        "colab": {
          "base_uri": "https://localhost:8080/"
        },
        "id": "F4RkfOUzF0P-",
        "outputId": "1d18528c-0303-46f5-b5e6-19e4dbc4089f"
      },
      "execution_count": null,
      "outputs": [
        {
          "output_type": "stream",
          "name": "stdout",
          "text": [
            "              precision    recall  f1-score   support\n",
            "\n",
            "       False       0.99      1.00      0.99      3147\n",
            "        True       0.85      0.74      0.79       103\n",
            "\n",
            "    accuracy                           0.99      3250\n",
            "   macro avg       0.92      0.87      0.89      3250\n",
            "weighted avg       0.99      0.99      0.99      3250\n",
            "\n"
          ]
        }
      ]
    },
    {
      "cell_type": "code",
      "source": [
        "# the SVM Classifier\n",
        "from sklearn import svm\n",
        "# build model\n",
        "svm_model = svm.SVC()\n",
        "# fit classifiers\n",
        "svm_model.fit(X_train, y_train)\n",
        "# Prediction\n",
        "y_pred = svm_model.predict(X_test)\n",
        "# model Evaluation\n",
        "acc_svm = accuracy_score(y_test, y_pred)\n",
        "acc_svm"
      ],
      "metadata": {
        "colab": {
          "base_uri": "https://localhost:8080/"
        },
        "id": "IATXbDqQF-Yk",
        "outputId": "ac765860-20eb-48ed-ecfb-ec52b5b598df"
      },
      "execution_count": null,
      "outputs": [
        {
          "output_type": "execute_result",
          "data": {
            "text/plain": [
              "0.9683076923076923"
            ]
          },
          "metadata": {},
          "execution_count": 35
        }
      ]
    },
    {
      "cell_type": "code",
      "source": [
        "tpr_svm = recall_score(y_test, y_pred)\n",
        "tpr_svm"
      ],
      "metadata": {
        "colab": {
          "base_uri": "https://localhost:8080/"
        },
        "id": "I2U8fhUjGNph",
        "outputId": "3c749100-cf30-4f57-acb2-f2955b3aeec3"
      },
      "execution_count": null,
      "outputs": [
        {
          "output_type": "execute_result",
          "data": {
            "text/plain": [
              "0.0"
            ]
          },
          "metadata": {},
          "execution_count": 36
        }
      ]
    },
    {
      "cell_type": "code",
      "source": [
        "print(classification_report(y_test,y_pred))"
      ],
      "metadata": {
        "colab": {
          "base_uri": "https://localhost:8080/"
        },
        "id": "Wg-wLDadGRTW",
        "outputId": "8a3749ff-0527-4f1a-d3cb-227cb90534bb"
      },
      "execution_count": null,
      "outputs": [
        {
          "output_type": "stream",
          "name": "stdout",
          "text": [
            "              precision    recall  f1-score   support\n",
            "\n",
            "       False       0.97      1.00      0.98      3147\n",
            "        True       0.00      0.00      0.00       103\n",
            "\n",
            "    accuracy                           0.97      3250\n",
            "   macro avg       0.48      0.50      0.49      3250\n",
            "weighted avg       0.94      0.97      0.95      3250\n",
            "\n"
          ]
        },
        {
          "output_type": "stream",
          "name": "stderr",
          "text": [
            "/usr/local/lib/python3.7/dist-packages/sklearn/metrics/_classification.py:1308: UndefinedMetricWarning: Precision and F-score are ill-defined and being set to 0.0 in labels with no predicted samples. Use `zero_division` parameter to control this behavior.\n",
            "  _warn_prf(average, modifier, msg_start, len(result))\n",
            "/usr/local/lib/python3.7/dist-packages/sklearn/metrics/_classification.py:1308: UndefinedMetricWarning: Precision and F-score are ill-defined and being set to 0.0 in labels with no predicted samples. Use `zero_division` parameter to control this behavior.\n",
            "  _warn_prf(average, modifier, msg_start, len(result))\n",
            "/usr/local/lib/python3.7/dist-packages/sklearn/metrics/_classification.py:1308: UndefinedMetricWarning: Precision and F-score are ill-defined and being set to 0.0 in labels with no predicted samples. Use `zero_division` parameter to control this behavior.\n",
            "  _warn_prf(average, modifier, msg_start, len(result))\n"
          ]
        }
      ]
    },
    {
      "cell_type": "code",
      "source": [
        "from sklearn.neural_network import MLPClassifier\n",
        "mlp_model = MLPClassifier()\n",
        "# fit classifiers\n",
        "mlp_model.fit(X_train, y_train)\n",
        "# Prediction\n",
        "y_pred = mlp_model.predict(X_test)\n",
        "# model Evaluation\n",
        "acc_mlp = accuracy_score(y_test, y_pred)\n",
        "acc_mlp"
      ],
      "metadata": {
        "colab": {
          "base_uri": "https://localhost:8080/"
        },
        "id": "f22lkUtYGTsJ",
        "outputId": "89845093-ed4b-4df9-ef6a-668cf6cedef2"
      },
      "execution_count": null,
      "outputs": [
        {
          "output_type": "execute_result",
          "data": {
            "text/plain": [
              "0.9686153846153847"
            ]
          },
          "metadata": {},
          "execution_count": 38
        }
      ]
    },
    {
      "cell_type": "code",
      "source": [
        "tpr_mlp = recall_score(y_test, y_pred)\n",
        "tpr_mlp"
      ],
      "metadata": {
        "colab": {
          "base_uri": "https://localhost:8080/"
        },
        "id": "XHb_ru3kGi8J",
        "outputId": "3afff14c-9062-4047-f0c1-30770d55fd6a"
      },
      "execution_count": null,
      "outputs": [
        {
          "output_type": "execute_result",
          "data": {
            "text/plain": [
              "0.019417475728155338"
            ]
          },
          "metadata": {},
          "execution_count": 39
        }
      ]
    },
    {
      "cell_type": "code",
      "source": [
        "print(classification_report(y_test,y_pred))"
      ],
      "metadata": {
        "colab": {
          "base_uri": "https://localhost:8080/"
        },
        "id": "V2h9trSYGlHY",
        "outputId": "61854edf-a38a-43c4-b1c8-eb7c525f54c6"
      },
      "execution_count": null,
      "outputs": [
        {
          "output_type": "stream",
          "name": "stdout",
          "text": [
            "              precision    recall  f1-score   support\n",
            "\n",
            "       False       0.97      1.00      0.98      3147\n",
            "        True       0.67      0.02      0.04       103\n",
            "\n",
            "    accuracy                           0.97      3250\n",
            "   macro avg       0.82      0.51      0.51      3250\n",
            "weighted avg       0.96      0.97      0.95      3250\n",
            "\n"
          ]
        }
      ]
    },
    {
      "cell_type": "code",
      "source": [
        "# Linear Discriminant Analysis\n",
        "from sklearn.discriminant_analysis import LinearDiscriminantAnalysis\n",
        "# build model\n",
        "lda = LinearDiscriminantAnalysis()\n",
        "# fit classifiers\n",
        "lda.fit(X_train, y_train)\n",
        "# Prediction\n",
        "y_pred = lda.predict(X_test)\n",
        "# model Evaluation\n",
        "acc_lda = accuracy_score(y_test, y_pred)\n",
        "acc_lda"
      ],
      "metadata": {
        "colab": {
          "base_uri": "https://localhost:8080/"
        },
        "id": "6dbv1RtnGqOj",
        "outputId": "44c88679-c572-4445-f632-d3cca7df0602"
      },
      "execution_count": null,
      "outputs": [
        {
          "output_type": "execute_result",
          "data": {
            "text/plain": [
              "0.9843076923076923"
            ]
          },
          "metadata": {},
          "execution_count": 41
        }
      ]
    },
    {
      "cell_type": "code",
      "source": [
        "tpr_lda = recall_score(y_test, y_pred)\n",
        "tpr_lda"
      ],
      "metadata": {
        "colab": {
          "base_uri": "https://localhost:8080/"
        },
        "id": "kSvcvV4OGyyd",
        "outputId": "afc9657a-7964-40ff-8713-1ac9c007da97"
      },
      "execution_count": null,
      "outputs": [
        {
          "output_type": "execute_result",
          "data": {
            "text/plain": [
              "0.7766990291262136"
            ]
          },
          "metadata": {},
          "execution_count": 42
        }
      ]
    },
    {
      "cell_type": "code",
      "source": [
        "print(classification_report(y_test,y_pred))"
      ],
      "metadata": {
        "colab": {
          "base_uri": "https://localhost:8080/"
        },
        "id": "NXVNkE5dG1Xe",
        "outputId": "b2e3fe59-182a-4767-a281-101bed425ba6"
      },
      "execution_count": null,
      "outputs": [
        {
          "output_type": "stream",
          "name": "stdout",
          "text": [
            "              precision    recall  f1-score   support\n",
            "\n",
            "       False       0.99      0.99      0.99      3147\n",
            "        True       0.74      0.78      0.76       103\n",
            "\n",
            "    accuracy                           0.98      3250\n",
            "   macro avg       0.87      0.88      0.88      3250\n",
            "weighted avg       0.98      0.98      0.98      3250\n",
            "\n"
          ]
        }
      ]
    },
    {
      "cell_type": "code",
      "source": [
        "# The Logistic Regression Classifier\n",
        "from sklearn.linear_model import LogisticRegression\n",
        "# build model\n",
        "log_model = LogisticRegression()\n",
        "# fit classifiers\n",
        "log_model.fit(X_train, y_train)\n",
        "# Prediction\n",
        "y_pred = log_model.predict(X_test)\n",
        "\n",
        "# model Evaluation\n",
        "acc_log = accuracy_score(y_test, y_pred)\n",
        "acc_log"
      ],
      "metadata": {
        "colab": {
          "base_uri": "https://localhost:8080/"
        },
        "id": "Od0rQWRnG5xH",
        "outputId": "a93d395d-19af-4b52-9363-9f5b3c4154ff"
      },
      "execution_count": null,
      "outputs": [
        {
          "output_type": "execute_result",
          "data": {
            "text/plain": [
              "0.968"
            ]
          },
          "metadata": {},
          "execution_count": 44
        }
      ]
    },
    {
      "cell_type": "code",
      "source": [
        "tpr_log = recall_score(y_test, y_pred)\n",
        "tpr_log"
      ],
      "metadata": {
        "colab": {
          "base_uri": "https://localhost:8080/"
        },
        "id": "XLhgP4CMHE1S",
        "outputId": "95e78668-14f4-4fff-a866-48c6e19a314b"
      },
      "execution_count": null,
      "outputs": [
        {
          "output_type": "execute_result",
          "data": {
            "text/plain": [
              "0.2912621359223301"
            ]
          },
          "metadata": {},
          "execution_count": 45
        }
      ]
    },
    {
      "cell_type": "code",
      "source": [
        "print(classification_report(y_test,y_pred))"
      ],
      "metadata": {
        "colab": {
          "base_uri": "https://localhost:8080/"
        },
        "id": "WME4roneHGdk",
        "outputId": "76c377c2-a9f0-4639-ec33-8b832dc23c30"
      },
      "execution_count": null,
      "outputs": [
        {
          "output_type": "stream",
          "name": "stdout",
          "text": [
            "              precision    recall  f1-score   support\n",
            "\n",
            "       False       0.98      0.99      0.98      3147\n",
            "        True       0.49      0.29      0.37       103\n",
            "\n",
            "    accuracy                           0.97      3250\n",
            "   macro avg       0.73      0.64      0.67      3250\n",
            "weighted avg       0.96      0.97      0.96      3250\n",
            "\n"
          ]
        }
      ]
    },
    {
      "cell_type": "code",
      "source": [
        "# The Random Forest Classifier\n",
        "from sklearn.ensemble import RandomForestClassifier \n",
        "# build model\n",
        "rf_model = RandomForestClassifier()\n",
        "# Fitting the classifier\n",
        "rf_model.fit(X_train, y_train)\n",
        "# Prediction\n",
        "y_pred = rf_model.predict(X_test)\n",
        "# model Evaluation\n",
        "acc_rf = accuracy_score(y_test, y_pred)\n",
        "acc_rf"
      ],
      "metadata": {
        "colab": {
          "base_uri": "https://localhost:8080/"
        },
        "id": "VVFojU3jHL-d",
        "outputId": "03fc50a2-ca44-4a33-a714-3b4670636477"
      },
      "execution_count": null,
      "outputs": [
        {
          "output_type": "execute_result",
          "data": {
            "text/plain": [
              "0.9923076923076923"
            ]
          },
          "metadata": {},
          "execution_count": 49
        }
      ]
    },
    {
      "cell_type": "code",
      "source": [
        "tpr_rf = recall_score(y_test, y_pred)\n",
        "tpr_rf"
      ],
      "metadata": {
        "colab": {
          "base_uri": "https://localhost:8080/"
        },
        "id": "TQXG5-OGHU-S",
        "outputId": "71a7becf-3810-435f-831a-283b56ff796a"
      },
      "execution_count": null,
      "outputs": [
        {
          "output_type": "execute_result",
          "data": {
            "text/plain": [
              "0.8349514563106796"
            ]
          },
          "metadata": {},
          "execution_count": 50
        }
      ]
    },
    {
      "cell_type": "code",
      "source": [
        "print(classification_report(y_test,y_pred))"
      ],
      "metadata": {
        "colab": {
          "base_uri": "https://localhost:8080/"
        },
        "id": "CSJO7oFbJop1",
        "outputId": "6f400a94-18ff-409b-d7bb-3c106aa78a9a"
      },
      "execution_count": null,
      "outputs": [
        {
          "output_type": "stream",
          "name": "stdout",
          "text": [
            "              precision    recall  f1-score   support\n",
            "\n",
            "       False       0.99      1.00      1.00      3147\n",
            "        True       0.91      0.83      0.87       103\n",
            "\n",
            "    accuracy                           0.99      3250\n",
            "   macro avg       0.95      0.92      0.93      3250\n",
            "weighted avg       0.99      0.99      0.99      3250\n",
            "\n"
          ]
        }
      ]
    },
    {
      "cell_type": "code",
      "source": [
        "# Gradient Boosting Classifier\n",
        "from sklearn.ensemble import GradientBoostingClassifier\n",
        "# build model\n",
        "gbc = GradientBoostingClassifier()\n",
        "# Fitting the classifier\n",
        "gbc.fit(X_train, y_train)\n",
        "# Prediction\n",
        "y_pred = gbc.predict(X_test)\n",
        "# model Evaluation\n",
        "acc_gbc = accuracy_score(y_test, y_pred)\n",
        "acc_gbc"
      ],
      "metadata": {
        "colab": {
          "base_uri": "https://localhost:8080/"
        },
        "id": "Pi07h6MhJ2EP",
        "outputId": "d7e8562e-93ac-4e0d-8990-b27c434adfad"
      },
      "execution_count": null,
      "outputs": [
        {
          "output_type": "execute_result",
          "data": {
            "text/plain": [
              "0.9963076923076923"
            ]
          },
          "metadata": {},
          "execution_count": 56
        }
      ]
    },
    {
      "cell_type": "code",
      "source": [
        "tpr_gbc = recall_score(y_test, y_pred)\n",
        "tpr_gbc"
      ],
      "metadata": {
        "colab": {
          "base_uri": "https://localhost:8080/"
        },
        "id": "WyoRlsVNJ4H_",
        "outputId": "cf1c2f7e-23a2-417c-eae7-063c545853a1"
      },
      "execution_count": null,
      "outputs": [
        {
          "output_type": "execute_result",
          "data": {
            "text/plain": [
              "0.970873786407767"
            ]
          },
          "metadata": {},
          "execution_count": 57
        }
      ]
    },
    {
      "cell_type": "code",
      "source": [
        "print(classification_report(y_test,y_pred))"
      ],
      "metadata": {
        "colab": {
          "base_uri": "https://localhost:8080/"
        },
        "id": "tSDn4lqBJ6wF",
        "outputId": "b2f269e6-140e-4998-ef85-cf23aae41037"
      },
      "execution_count": null,
      "outputs": [
        {
          "output_type": "stream",
          "name": "stdout",
          "text": [
            "              precision    recall  f1-score   support\n",
            "\n",
            "       False       1.00      1.00      1.00      3147\n",
            "        True       0.92      0.97      0.94       103\n",
            "\n",
            "    accuracy                           1.00      3250\n",
            "   macro avg       0.96      0.98      0.97      3250\n",
            "weighted avg       1.00      1.00      1.00      3250\n",
            "\n"
          ]
        }
      ]
    },
    {
      "cell_type": "code",
      "source": [
        "df = pd.DataFrame(np.array([[acc_dtc, tpr_dtc], [acc_dtr, tpr_dtr], [acc_knn, tpr_knn], [acc_svm, tpr_svm], [acc_mlp, tpr_mlp], [acc_lda, tpr_lda], \n",
        "                            [acc_log, tpr_log], [acc_rf, tpr_rf], [acc_gbc, tpr_gbc]]),\n",
        "                  columns=['accuracy', 'TPR'], \n",
        "                  index=['Decision Tree Classifier', 'Decision Tree Regressor', 'KNeighbors Classifier', 'Support Vector Machines Classifier', 'Multi-layer Perceptron Classifier', \n",
        "                  'Linear Discriminant Analysis', 'Logistic Regression', 'Random Forest Classifier', 'Gradient Boosting'])\n",
        "df"
      ],
      "metadata": {
        "colab": {
          "base_uri": "https://localhost:8080/",
          "height": 332
        },
        "id": "Ogd_aQJVKZDJ",
        "outputId": "b3a373a4-663d-4a54-93a5-6fce355b2c27"
      },
      "execution_count": null,
      "outputs": [
        {
          "output_type": "execute_result",
          "data": {
            "text/html": [
              "<div>\n",
              "<style scoped>\n",
              "    .dataframe tbody tr th:only-of-type {\n",
              "        vertical-align: middle;\n",
              "    }\n",
              "\n",
              "    .dataframe tbody tr th {\n",
              "        vertical-align: top;\n",
              "    }\n",
              "\n",
              "    .dataframe thead th {\n",
              "        text-align: right;\n",
              "    }\n",
              "</style>\n",
              "<table border=\"1\" class=\"dataframe\">\n",
              "  <thead>\n",
              "    <tr style=\"text-align: right;\">\n",
              "      <th></th>\n",
              "      <th>accuracy</th>\n",
              "      <th>TPR</th>\n",
              "    </tr>\n",
              "  </thead>\n",
              "  <tbody>\n",
              "    <tr>\n",
              "      <th>Decision Tree Classifier</th>\n",
              "      <td>0.995077</td>\n",
              "      <td>0.941748</td>\n",
              "    </tr>\n",
              "    <tr>\n",
              "      <th>Decision Tree Regressor</th>\n",
              "      <td>0.995077</td>\n",
              "      <td>0.932039</td>\n",
              "    </tr>\n",
              "    <tr>\n",
              "      <th>KNeighbors Classifier</th>\n",
              "      <td>0.987692</td>\n",
              "      <td>0.737864</td>\n",
              "    </tr>\n",
              "    <tr>\n",
              "      <th>Support Vector Machines Classifier</th>\n",
              "      <td>0.968308</td>\n",
              "      <td>0.000000</td>\n",
              "    </tr>\n",
              "    <tr>\n",
              "      <th>Multi-layer Perceptron Classifier</th>\n",
              "      <td>0.968615</td>\n",
              "      <td>0.019417</td>\n",
              "    </tr>\n",
              "    <tr>\n",
              "      <th>Linear Discriminant Analysis</th>\n",
              "      <td>0.984308</td>\n",
              "      <td>0.776699</td>\n",
              "    </tr>\n",
              "    <tr>\n",
              "      <th>Logistic Regression</th>\n",
              "      <td>0.968000</td>\n",
              "      <td>0.291262</td>\n",
              "    </tr>\n",
              "    <tr>\n",
              "      <th>Random Forest Classifier</th>\n",
              "      <td>0.992308</td>\n",
              "      <td>0.834951</td>\n",
              "    </tr>\n",
              "    <tr>\n",
              "      <th>Gradient Boosting</th>\n",
              "      <td>0.996308</td>\n",
              "      <td>0.970874</td>\n",
              "    </tr>\n",
              "  </tbody>\n",
              "</table>\n",
              "</div>"
            ],
            "text/plain": [
              "                                    accuracy       TPR\n",
              "Decision Tree Classifier            0.995077  0.941748\n",
              "Decision Tree Regressor             0.995077  0.932039\n",
              "KNeighbors Classifier               0.987692  0.737864\n",
              "Support Vector Machines Classifier  0.968308  0.000000\n",
              "Multi-layer Perceptron Classifier   0.968615  0.019417\n",
              "Linear Discriminant Analysis        0.984308  0.776699\n",
              "Logistic Regression                 0.968000  0.291262\n",
              "Random Forest Classifier            0.992308  0.834951\n",
              "Gradient Boosting                   0.996308  0.970874"
            ]
          },
          "metadata": {},
          "execution_count": 63
        }
      ]
    },
    {
      "cell_type": "code",
      "source": [
        "from sklearn.model_selection import KFold\n",
        "from sklearn.model_selection import GridSearchCV"
      ],
      "metadata": {
        "id": "IwXSUALXOCBQ"
      },
      "execution_count": null,
      "outputs": []
    },
    {
      "cell_type": "code",
      "source": [
        "grid_values = {'n_estimators': [100], 'learning_rate': [0.1]}\n",
        "gbc = GradientBoostingClassifier()\n",
        "gbc_cv = GridSearchCV(gbc, param_grid=grid_values, cv=10, n_jobs=-1)\n",
        "gbc_cv.fit(X_train, y_train)"
      ],
      "metadata": {
        "colab": {
          "base_uri": "https://localhost:8080/"
        },
        "id": "V_2naAEhNOkh",
        "outputId": "8e7aaec0-39de-4230-86a2-4a3ebd69717d"
      },
      "execution_count": null,
      "outputs": [
        {
          "output_type": "execute_result",
          "data": {
            "text/plain": [
              "GridSearchCV(cv=10, estimator=GradientBoostingClassifier(), n_jobs=-1,\n",
              "             param_grid={'learning_rate': [0.1], 'n_estimators': [100]})"
            ]
          },
          "metadata": {},
          "execution_count": 86
        }
      ]
    },
    {
      "cell_type": "code",
      "source": [
        "y_pred = gbc_cv.predict(X_test)\n",
        "acc_gbc_cv = accuracy_score(y_test, y_pred)\n",
        "acc_gbc_cv"
      ],
      "metadata": {
        "colab": {
          "base_uri": "https://localhost:8080/"
        },
        "id": "z2IjOufTPhQX",
        "outputId": "917bff41-5ed8-4c95-8ea7-bcc710e1aa0c"
      },
      "execution_count": null,
      "outputs": [
        {
          "output_type": "execute_result",
          "data": {
            "text/plain": [
              "0.9963076923076923"
            ]
          },
          "metadata": {},
          "execution_count": 78
        }
      ]
    },
    {
      "cell_type": "code",
      "source": [
        "y_pred = gbc_cv.predict(X_test)\n",
        "acc_gbc_cv10 = accuracy_score(y_test, y_pred)\n",
        "acc_gbc_cv10"
      ],
      "metadata": {
        "colab": {
          "base_uri": "https://localhost:8080/"
        },
        "id": "qKT6_B_7i7jJ",
        "outputId": "1e96eb4b-07f7-4e00-fcd9-5f6f2689aec3"
      },
      "execution_count": null,
      "outputs": [
        {
          "output_type": "execute_result",
          "data": {
            "text/plain": [
              "0.9963076923076923"
            ]
          },
          "metadata": {},
          "execution_count": 87
        }
      ]
    },
    {
      "cell_type": "code",
      "source": [
        "tpr_gbc_cv = recall_score(y_test, y_pred)\n",
        "tpr_gbc_cv"
      ],
      "metadata": {
        "colab": {
          "base_uri": "https://localhost:8080/"
        },
        "id": "04mQASwzOG6y",
        "outputId": "89e06eb6-6f26-4ea4-e532-fd131fe5018a"
      },
      "execution_count": null,
      "outputs": [
        {
          "output_type": "execute_result",
          "data": {
            "text/plain": [
              "0.970873786407767"
            ]
          },
          "metadata": {},
          "execution_count": 88
        }
      ]
    },
    {
      "cell_type": "code",
      "source": [
        "df = pd.DataFrame(np.array([[acc_gbc, tpr_gbc], [acc_gbc_cv, tpr_gbc_cv]]),\n",
        "                  columns=['accuracy', 'TPR'], \n",
        "                  index=['Gradient Boosting Classifier', 'Gradient Boosting Classifier with CV'])\n",
        "df"
      ],
      "metadata": {
        "colab": {
          "base_uri": "https://localhost:8080/",
          "height": 112
        },
        "id": "PwKmfqQNiZ3e",
        "outputId": "ba23323b-3a0c-41a4-d6b3-a7793b6c2617"
      },
      "execution_count": null,
      "outputs": [
        {
          "output_type": "execute_result",
          "data": {
            "text/html": [
              "<div>\n",
              "<style scoped>\n",
              "    .dataframe tbody tr th:only-of-type {\n",
              "        vertical-align: middle;\n",
              "    }\n",
              "\n",
              "    .dataframe tbody tr th {\n",
              "        vertical-align: top;\n",
              "    }\n",
              "\n",
              "    .dataframe thead th {\n",
              "        text-align: right;\n",
              "    }\n",
              "</style>\n",
              "<table border=\"1\" class=\"dataframe\">\n",
              "  <thead>\n",
              "    <tr style=\"text-align: right;\">\n",
              "      <th></th>\n",
              "      <th>accuracy</th>\n",
              "      <th>TPR</th>\n",
              "    </tr>\n",
              "  </thead>\n",
              "  <tbody>\n",
              "    <tr>\n",
              "      <th>Gradient Boosting Classifier</th>\n",
              "      <td>0.996308</td>\n",
              "      <td>0.970874</td>\n",
              "    </tr>\n",
              "    <tr>\n",
              "      <th>Gradient Boosting Classifier with CV</th>\n",
              "      <td>0.996308</td>\n",
              "      <td>0.970874</td>\n",
              "    </tr>\n",
              "  </tbody>\n",
              "</table>\n",
              "</div>"
            ],
            "text/plain": [
              "                                      accuracy       TPR\n",
              "Gradient Boosting Classifier          0.996308  0.970874\n",
              "Gradient Boosting Classifier with CV  0.996308  0.970874"
            ]
          },
          "metadata": {},
          "execution_count": 85
        }
      ]
    },
    {
      "cell_type": "code",
      "source": [
        "# Random Forest Classifier with CV\n",
        "grid_values = {'max_features': [\"auto\"], 'min_samples_split': [2], 'n_estimators': [100]}\n",
        "rf = RandomForestClassifier()\n",
        "rf_cv = GridSearchCV(rf, param_grid=grid_values, cv=5,n_jobs=-1)\n",
        "rf_cv.fit(X_train, y_train)"
      ],
      "metadata": {
        "colab": {
          "base_uri": "https://localhost:8080/"
        },
        "id": "eu_aemEjQOYT",
        "outputId": "65a1c035-70f1-4e7b-9241-492484a8cb37"
      },
      "execution_count": null,
      "outputs": [
        {
          "output_type": "execute_result",
          "data": {
            "text/plain": [
              "GridSearchCV(cv=5, estimator=RandomForestClassifier(), n_jobs=-1,\n",
              "             param_grid={'max_features': ['auto'], 'min_samples_split': [2],\n",
              "                         'n_estimators': [100]})"
            ]
          },
          "metadata": {},
          "execution_count": 74
        }
      ]
    },
    {
      "cell_type": "code",
      "source": [
        "y_pred = rf_cv.predict(X_test)\n",
        "acc_rf_cv = accuracy_score(y_test, y_pred)\n",
        "acc_rf_cv"
      ],
      "metadata": {
        "colab": {
          "base_uri": "https://localhost:8080/"
        },
        "id": "Dx74MCMlQbCI",
        "outputId": "927648ce-447a-4111-bc80-8d3e35c4f1f2"
      },
      "execution_count": null,
      "outputs": [
        {
          "output_type": "execute_result",
          "data": {
            "text/plain": [
              "0.9932307692307693"
            ]
          },
          "metadata": {},
          "execution_count": 75
        }
      ]
    },
    {
      "cell_type": "code",
      "source": [
        "tpr_rf_cv = recall_score(y_test, y_pred)\n",
        "tpr_rf_cv"
      ],
      "metadata": {
        "colab": {
          "base_uri": "https://localhost:8080/"
        },
        "id": "GK6hB87cQu-B",
        "outputId": "22609db9-4449-441b-94ca-cc740b9f6e43"
      },
      "execution_count": null,
      "outputs": [
        {
          "output_type": "execute_result",
          "data": {
            "text/plain": [
              "0.8640776699029126"
            ]
          },
          "metadata": {},
          "execution_count": 76
        }
      ]
    },
    {
      "cell_type": "code",
      "source": [
        "rf_cv.best_params_"
      ],
      "metadata": {
        "colab": {
          "base_uri": "https://localhost:8080/"
        },
        "id": "XML1VGLkQ5eN",
        "outputId": "1c6e8926-2e72-4271-c655-cf9939885bb0"
      },
      "execution_count": null,
      "outputs": [
        {
          "output_type": "execute_result",
          "data": {
            "text/plain": [
              "{'max_features': 'sqrt', 'min_samples_split': 50, 'n_estimators': 200}"
            ]
          },
          "metadata": {},
          "execution_count": 73
        }
      ]
    },
    {
      "cell_type": "code",
      "source": [
        "df = pd.DataFrame(np.array([[acc_rf, tpr_rf], [acc_rf_cv, tpr_rf_cv]]),\n",
        "                  columns=['accuracy', 'TPR'], \n",
        "                  index=['Random Forest Classifier', 'Random Forest Classifier with CV'])\n",
        "df"
      ],
      "metadata": {
        "colab": {
          "base_uri": "https://localhost:8080/",
          "height": 112
        },
        "id": "pJx8V0-fRK31",
        "outputId": "56438ec2-bac5-460a-c250-7b011185e230"
      },
      "execution_count": null,
      "outputs": [
        {
          "output_type": "execute_result",
          "data": {
            "text/html": [
              "<div>\n",
              "<style scoped>\n",
              "    .dataframe tbody tr th:only-of-type {\n",
              "        vertical-align: middle;\n",
              "    }\n",
              "\n",
              "    .dataframe tbody tr th {\n",
              "        vertical-align: top;\n",
              "    }\n",
              "\n",
              "    .dataframe thead th {\n",
              "        text-align: right;\n",
              "    }\n",
              "</style>\n",
              "<table border=\"1\" class=\"dataframe\">\n",
              "  <thead>\n",
              "    <tr style=\"text-align: right;\">\n",
              "      <th></th>\n",
              "      <th>accuracy</th>\n",
              "      <th>TPR</th>\n",
              "    </tr>\n",
              "  </thead>\n",
              "  <tbody>\n",
              "    <tr>\n",
              "      <th>Random Forest Classifier</th>\n",
              "      <td>0.992308</td>\n",
              "      <td>0.834951</td>\n",
              "    </tr>\n",
              "    <tr>\n",
              "      <th>Random Forest Classifier with CV</th>\n",
              "      <td>0.993231</td>\n",
              "      <td>0.864078</td>\n",
              "    </tr>\n",
              "  </tbody>\n",
              "</table>\n",
              "</div>"
            ],
            "text/plain": [
              "                                  accuracy       TPR\n",
              "Random Forest Classifier          0.992308  0.834951\n",
              "Random Forest Classifier with CV  0.993231  0.864078"
            ]
          },
          "metadata": {},
          "execution_count": 80
        }
      ]
    },
    {
      "cell_type": "code",
      "source": [
        "grid_values = {'criterion': [\"squared_error\"]}\n",
        "dtr = DecisionTreeRegressor()\n",
        "dtr_cv = GridSearchCV(dtr, param_grid=grid_values, cv=5,n_jobs=-1)\n",
        "dtr_cv.fit(X_train, y_train)"
      ],
      "metadata": {
        "colab": {
          "base_uri": "https://localhost:8080/"
        },
        "id": "thVx-f43UOBU",
        "outputId": "6fbf2946-133d-432f-a154-80d65a860678"
      },
      "execution_count": null,
      "outputs": [
        {
          "output_type": "execute_result",
          "data": {
            "text/plain": [
              "GridSearchCV(cv=5, estimator=DecisionTreeRegressor(), n_jobs=-1,\n",
              "             param_grid={'criterion': ['squared_error']})"
            ]
          },
          "metadata": {},
          "execution_count": 81
        }
      ]
    },
    {
      "cell_type": "code",
      "source": [
        "y_pred = dtr_cv.predict(X_test)\n",
        "acc_dtr_cv = accuracy_score(y_test, y_pred)\n",
        "acc_dtr_cv"
      ],
      "metadata": {
        "colab": {
          "base_uri": "https://localhost:8080/"
        },
        "id": "H_bLxozIUeVO",
        "outputId": "c17e0495-ba27-45b8-8f68-d8ed2fa0f128"
      },
      "execution_count": null,
      "outputs": [
        {
          "output_type": "execute_result",
          "data": {
            "text/plain": [
              "0.9953846153846154"
            ]
          },
          "metadata": {},
          "execution_count": 82
        }
      ]
    },
    {
      "cell_type": "code",
      "source": [
        "tpr_dtr_cv = recall_score(y_test, y_pred)\n",
        "tpr_dtr_cv"
      ],
      "metadata": {
        "colab": {
          "base_uri": "https://localhost:8080/"
        },
        "id": "FvGr7pdVUi_b",
        "outputId": "27def8b6-1ed8-4ee6-843b-622a428435e3"
      },
      "execution_count": null,
      "outputs": [
        {
          "output_type": "execute_result",
          "data": {
            "text/plain": [
              "0.941747572815534"
            ]
          },
          "metadata": {},
          "execution_count": 83
        }
      ]
    },
    {
      "cell_type": "code",
      "source": [
        "df = pd.DataFrame(np.array([[acc_dtr, tpr_dtr], [acc_dtr_cv, tpr_dtr_cv]]),\n",
        "                  columns=['accuracy', 'TPR'], \n",
        "                  index=['Decision Tree Regressor', 'Decision Tree Regressor with CV'])\n",
        "df"
      ],
      "metadata": {
        "colab": {
          "base_uri": "https://localhost:8080/",
          "height": 112
        },
        "id": "Sq30w0GoUsjh",
        "outputId": "ef64720b-200a-460f-a2de-8061b05fcc21"
      },
      "execution_count": null,
      "outputs": [
        {
          "output_type": "execute_result",
          "data": {
            "text/html": [
              "<div>\n",
              "<style scoped>\n",
              "    .dataframe tbody tr th:only-of-type {\n",
              "        vertical-align: middle;\n",
              "    }\n",
              "\n",
              "    .dataframe tbody tr th {\n",
              "        vertical-align: top;\n",
              "    }\n",
              "\n",
              "    .dataframe thead th {\n",
              "        text-align: right;\n",
              "    }\n",
              "</style>\n",
              "<table border=\"1\" class=\"dataframe\">\n",
              "  <thead>\n",
              "    <tr style=\"text-align: right;\">\n",
              "      <th></th>\n",
              "      <th>accuracy</th>\n",
              "      <th>TPR</th>\n",
              "    </tr>\n",
              "  </thead>\n",
              "  <tbody>\n",
              "    <tr>\n",
              "      <th>Decision Tree Regressor</th>\n",
              "      <td>0.995077</td>\n",
              "      <td>0.932039</td>\n",
              "    </tr>\n",
              "    <tr>\n",
              "      <th>Decision Tree Regressor with CV</th>\n",
              "      <td>0.995385</td>\n",
              "      <td>0.941748</td>\n",
              "    </tr>\n",
              "  </tbody>\n",
              "</table>\n",
              "</div>"
            ],
            "text/plain": [
              "                                 accuracy       TPR\n",
              "Decision Tree Regressor          0.995077  0.932039\n",
              "Decision Tree Regressor with CV  0.995385  0.941748"
            ]
          },
          "metadata": {},
          "execution_count": 84
        }
      ]
    }
  ],
  "metadata": {
    "kernelspec": {
      "display_name": "Python 3",
      "language": "python",
      "name": "python3"
    },
    "language_info": {
      "codemirror_mode": {
        "name": "ipython",
        "version": 3
      },
      "file_extension": ".py",
      "mimetype": "text/x-python",
      "name": "python",
      "nbconvert_exporter": "python",
      "pygments_lexer": "ipython3",
      "version": "3.8.3"
    },
    "colab": {
      "name": "Sales_Analysis_model.ipynb",
      "provenance": [],
      "collapsed_sections": []
    }
  },
  "nbformat": 4,
  "nbformat_minor": 0
}